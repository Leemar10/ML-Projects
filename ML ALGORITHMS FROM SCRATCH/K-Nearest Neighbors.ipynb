{
 "cells": [
  {
   "cell_type": "markdown",
   "id": "de20a863-ecac-498b-9b11-713a8e889bc9",
   "metadata": {},
   "source": [
    "# Overview  \n",
    "\n",
    "This is the **fourth notebook** in my machine learning series.  \n",
    "\n",
    "In this notebook, we’ll implement our **second classification algorithm — K-Nearest Neighbors (KNN)**.  \n",
    "\n",
    "Let’s get started!"
   ]
  },
  {
   "cell_type": "markdown",
   "id": "ef47982d-ac23-4a3e-b415-b65915ec4078",
   "metadata": {},
   "source": [
    "# Imports"
   ]
  },
  {
   "cell_type": "code",
   "execution_count": 1,
   "id": "f5e1c7df-69fc-4e8e-8b29-6c4503702603",
   "metadata": {},
   "outputs": [],
   "source": [
    "import numpy as np\n",
    "import pandas as pd\n",
    "import matplotlib.pyplot as plt\n",
    "import plotly.express as px\n",
    "import seaborn as sns"
   ]
  },
  {
   "cell_type": "markdown",
   "id": "8d841a72-e32b-46dd-b56e-1976d8ced296",
   "metadata": {},
   "source": [
    "# Data Loading and Analysis"
   ]
  },
  {
   "cell_type": "markdown",
   "id": "5ffcd11b-ad19-4dbb-a300-d93835976b8c",
   "metadata": {},
   "source": [
    "## Dataset — Iris \n",
    "\n",
    "In this notebook, we'll be using the **Iris dataset**, one of the most famous datasets in machine learning.  \n",
    "\n",
    "The **Iris dataset** was first introduced in **R.A. Fisher’s 1936 paper**, *“The Use of Multiple Measurements in Taxonomic Problems”*, and is also available on the **UCI Machine Learning Repository**.  \n",
    "\n",
    "It contains **three species of Iris flowers**, with **50 samples each**, and includes measurements of their physical attributes.  \n",
    "One of the species is **linearly separable**, while the other two are **not linearly separable**, making this dataset a great starting point for classification tasks.  \n",
    "\n",
    "### Columns:\n",
    "- **Id** — Unique identifier for each observation  \n",
    "- **SepalLengthCm** — Length of the sepal (in cm)  \n",
    "- **SepalWidthCm** — Width of the sepal (in cm)  \n",
    "- **PetalLengthCm** — Length of the petal (in cm)  \n",
    "- **PetalWidthCm** — Width of the petal (in cm)  \n",
    "- **Species** — Type of Iris flower (Setosa, Versicolor, Virginica)\n"
   ]
  },
  {
   "cell_type": "code",
   "execution_count": 2,
   "id": "e2769e67-d9ca-4f64-b681-13f1201eb577",
   "metadata": {},
   "outputs": [],
   "source": [
    "# Load the dataset\n",
    "df = pd.read_csv('Iris.csv')"
   ]
  },
  {
   "cell_type": "code",
   "execution_count": 3,
   "id": "3ab8e605-b676-4f17-8bda-ed98da191e9a",
   "metadata": {},
   "outputs": [
    {
     "data": {
      "text/html": [
       "<div>\n",
       "<style scoped>\n",
       "    .dataframe tbody tr th:only-of-type {\n",
       "        vertical-align: middle;\n",
       "    }\n",
       "\n",
       "    .dataframe tbody tr th {\n",
       "        vertical-align: top;\n",
       "    }\n",
       "\n",
       "    .dataframe thead th {\n",
       "        text-align: right;\n",
       "    }\n",
       "</style>\n",
       "<table border=\"1\" class=\"dataframe\">\n",
       "  <thead>\n",
       "    <tr style=\"text-align: right;\">\n",
       "      <th></th>\n",
       "      <th>Id</th>\n",
       "      <th>SepalLengthCm</th>\n",
       "      <th>SepalWidthCm</th>\n",
       "      <th>PetalLengthCm</th>\n",
       "      <th>PetalWidthCm</th>\n",
       "      <th>Species</th>\n",
       "    </tr>\n",
       "  </thead>\n",
       "  <tbody>\n",
       "    <tr>\n",
       "      <th>0</th>\n",
       "      <td>1</td>\n",
       "      <td>5.1</td>\n",
       "      <td>3.5</td>\n",
       "      <td>1.4</td>\n",
       "      <td>0.2</td>\n",
       "      <td>Iris-setosa</td>\n",
       "    </tr>\n",
       "    <tr>\n",
       "      <th>1</th>\n",
       "      <td>2</td>\n",
       "      <td>4.9</td>\n",
       "      <td>3.0</td>\n",
       "      <td>1.4</td>\n",
       "      <td>0.2</td>\n",
       "      <td>Iris-setosa</td>\n",
       "    </tr>\n",
       "    <tr>\n",
       "      <th>2</th>\n",
       "      <td>3</td>\n",
       "      <td>4.7</td>\n",
       "      <td>3.2</td>\n",
       "      <td>1.3</td>\n",
       "      <td>0.2</td>\n",
       "      <td>Iris-setosa</td>\n",
       "    </tr>\n",
       "    <tr>\n",
       "      <th>3</th>\n",
       "      <td>4</td>\n",
       "      <td>4.6</td>\n",
       "      <td>3.1</td>\n",
       "      <td>1.5</td>\n",
       "      <td>0.2</td>\n",
       "      <td>Iris-setosa</td>\n",
       "    </tr>\n",
       "    <tr>\n",
       "      <th>4</th>\n",
       "      <td>5</td>\n",
       "      <td>5.0</td>\n",
       "      <td>3.6</td>\n",
       "      <td>1.4</td>\n",
       "      <td>0.2</td>\n",
       "      <td>Iris-setosa</td>\n",
       "    </tr>\n",
       "  </tbody>\n",
       "</table>\n",
       "</div>"
      ],
      "text/plain": [
       "   Id  SepalLengthCm  SepalWidthCm  PetalLengthCm  PetalWidthCm      Species\n",
       "0   1            5.1           3.5            1.4           0.2  Iris-setosa\n",
       "1   2            4.9           3.0            1.4           0.2  Iris-setosa\n",
       "2   3            4.7           3.2            1.3           0.2  Iris-setosa\n",
       "3   4            4.6           3.1            1.5           0.2  Iris-setosa\n",
       "4   5            5.0           3.6            1.4           0.2  Iris-setosa"
      ]
     },
     "execution_count": 3,
     "metadata": {},
     "output_type": "execute_result"
    }
   ],
   "source": [
    "df.head()"
   ]
  },
  {
   "cell_type": "code",
   "execution_count": 4,
   "id": "1114ea73-b794-473e-90be-2d5d3f0c794d",
   "metadata": {},
   "outputs": [],
   "source": [
    "# Drop useless columns\n",
    "df.drop('Id', axis=1, inplace=True)"
   ]
  },
  {
   "cell_type": "code",
   "execution_count": 5,
   "id": "32f8251e-1dc0-48b2-9ae5-61598378331e",
   "metadata": {},
   "outputs": [
    {
     "data": {
      "text/html": [
       "<div>\n",
       "<style scoped>\n",
       "    .dataframe tbody tr th:only-of-type {\n",
       "        vertical-align: middle;\n",
       "    }\n",
       "\n",
       "    .dataframe tbody tr th {\n",
       "        vertical-align: top;\n",
       "    }\n",
       "\n",
       "    .dataframe thead th {\n",
       "        text-align: right;\n",
       "    }\n",
       "</style>\n",
       "<table border=\"1\" class=\"dataframe\">\n",
       "  <thead>\n",
       "    <tr style=\"text-align: right;\">\n",
       "      <th></th>\n",
       "      <th>SepalLengthCm</th>\n",
       "      <th>SepalWidthCm</th>\n",
       "      <th>PetalLengthCm</th>\n",
       "      <th>PetalWidthCm</th>\n",
       "      <th>Species</th>\n",
       "    </tr>\n",
       "  </thead>\n",
       "  <tbody>\n",
       "    <tr>\n",
       "      <th>0</th>\n",
       "      <td>5.1</td>\n",
       "      <td>3.5</td>\n",
       "      <td>1.4</td>\n",
       "      <td>0.2</td>\n",
       "      <td>Iris-setosa</td>\n",
       "    </tr>\n",
       "    <tr>\n",
       "      <th>1</th>\n",
       "      <td>4.9</td>\n",
       "      <td>3.0</td>\n",
       "      <td>1.4</td>\n",
       "      <td>0.2</td>\n",
       "      <td>Iris-setosa</td>\n",
       "    </tr>\n",
       "    <tr>\n",
       "      <th>2</th>\n",
       "      <td>4.7</td>\n",
       "      <td>3.2</td>\n",
       "      <td>1.3</td>\n",
       "      <td>0.2</td>\n",
       "      <td>Iris-setosa</td>\n",
       "    </tr>\n",
       "    <tr>\n",
       "      <th>3</th>\n",
       "      <td>4.6</td>\n",
       "      <td>3.1</td>\n",
       "      <td>1.5</td>\n",
       "      <td>0.2</td>\n",
       "      <td>Iris-setosa</td>\n",
       "    </tr>\n",
       "    <tr>\n",
       "      <th>4</th>\n",
       "      <td>5.0</td>\n",
       "      <td>3.6</td>\n",
       "      <td>1.4</td>\n",
       "      <td>0.2</td>\n",
       "      <td>Iris-setosa</td>\n",
       "    </tr>\n",
       "  </tbody>\n",
       "</table>\n",
       "</div>"
      ],
      "text/plain": [
       "   SepalLengthCm  SepalWidthCm  PetalLengthCm  PetalWidthCm      Species\n",
       "0            5.1           3.5            1.4           0.2  Iris-setosa\n",
       "1            4.9           3.0            1.4           0.2  Iris-setosa\n",
       "2            4.7           3.2            1.3           0.2  Iris-setosa\n",
       "3            4.6           3.1            1.5           0.2  Iris-setosa\n",
       "4            5.0           3.6            1.4           0.2  Iris-setosa"
      ]
     },
     "execution_count": 5,
     "metadata": {},
     "output_type": "execute_result"
    }
   ],
   "source": [
    "df.head()"
   ]
  },
  {
   "cell_type": "markdown",
   "id": "36e48276-02f2-4929-a678-2fc95a53ea8b",
   "metadata": {},
   "source": [
    "## Data Visualization"
   ]
  },
  {
   "cell_type": "code",
   "execution_count": 6,
   "id": "b05d8e0d-f899-4917-bd55-d56a1b2f69ae",
   "metadata": {},
   "outputs": [
    {
     "data": {
      "text/html": [
       "<iframe\n",
       "    scrolling=\"no\"\n",
       "    width=\"100%\"\n",
       "    height=\"545px\"\n",
       "    src=\"iframe_figures/figure_6.html\"\n",
       "    frameborder=\"0\"\n",
       "    allowfullscreen\n",
       "></iframe>\n"
      ]
     },
     "metadata": {},
     "output_type": "display_data"
    }
   ],
   "source": [
    "fig = px.pie(df, 'Species', template='plotly_dark', title='Data Distribution')\n",
    "fig.show(renderer='iframe')"
   ]
  },
  {
   "cell_type": "markdown",
   "id": "59d27ab2-077b-484c-ae42-5e8d670c7946",
   "metadata": {},
   "source": [
    "This plot shows that there is an **equal number of samples for each class**, making the dataset **balanced**."
   ]
  },
  {
   "cell_type": "markdown",
   "id": "80198288-8648-49e2-a127-7015f360505f",
   "metadata": {},
   "source": [
    "### Sepal Length "
   ]
  },
  {
   "cell_type": "code",
   "execution_count": 7,
   "id": "2e3ff3a2-c7e3-449c-a953-e7bb33a4c124",
   "metadata": {},
   "outputs": [
    {
     "data": {
      "text/html": [
       "<iframe\n",
       "    scrolling=\"no\"\n",
       "    width=\"100%\"\n",
       "    height=\"545px\"\n",
       "    src=\"iframe_figures/figure_7.html\"\n",
       "    frameborder=\"0\"\n",
       "    allowfullscreen\n",
       "></iframe>\n"
      ]
     },
     "metadata": {},
     "output_type": "display_data"
    }
   ],
   "source": [
    "fig = px.box(df, x='Species', y='SepalLengthCm', color='Species', template='plotly_dark')\n",
    "fig.show(renderer='iframe')"
   ]
  },
  {
   "cell_type": "code",
   "execution_count": 8,
   "id": "95ef6105-fca1-4f66-9a08-f43178ee223c",
   "metadata": {},
   "outputs": [
    {
     "data": {
      "text/html": [
       "<iframe\n",
       "    scrolling=\"no\"\n",
       "    width=\"100%\"\n",
       "    height=\"545px\"\n",
       "    src=\"iframe_figures/figure_8.html\"\n",
       "    frameborder=\"0\"\n",
       "    allowfullscreen\n",
       "></iframe>\n"
      ]
     },
     "metadata": {},
     "output_type": "display_data"
    }
   ],
   "source": [
    "fig = px.histogram(df, x='SepalLengthCm', color='Species', template='plotly_dark', nbins=50)\n",
    "fig.show(renderer='iframe')"
   ]
  },
  {
   "cell_type": "markdown",
   "id": "128f09b0-188b-4665-8d65-779ad0e21d75",
   "metadata": {},
   "source": [
    "These plots show that:  \n",
    "- **Setosa** flowers are much smaller, making them **linearly separable** from the other two classes.  \n",
    "- **Virginica** flowers are generally the largest and contain a outlier.  \n",
    "- It is difficult to distinguish between **Versicolor** and **Virginica**, as their features overlap.\n",
    "- The amount of overlap between **Versicolor** and **Virginica** make this a less useful feature. "
   ]
  },
  {
   "cell_type": "markdown",
   "id": "4e90dacb-3a90-48b6-b31e-1e927117805f",
   "metadata": {},
   "source": [
    "### Petal Length"
   ]
  },
  {
   "cell_type": "code",
   "execution_count": 9,
   "id": "d1156bb8-1c6d-456b-8929-bd1e852bb576",
   "metadata": {},
   "outputs": [
    {
     "data": {
      "text/html": [
       "<iframe\n",
       "    scrolling=\"no\"\n",
       "    width=\"100%\"\n",
       "    height=\"545px\"\n",
       "    src=\"iframe_figures/figure_9.html\"\n",
       "    frameborder=\"0\"\n",
       "    allowfullscreen\n",
       "></iframe>\n"
      ]
     },
     "metadata": {},
     "output_type": "display_data"
    }
   ],
   "source": [
    "fig = px.box(df, x='Species', y='PetalLengthCm', color='Species', template='plotly_dark')\n",
    "fig.show(renderer='iframe')"
   ]
  },
  {
   "cell_type": "code",
   "execution_count": 10,
   "id": "695a1f12-6f1f-4b74-a86a-0e64ababdb57",
   "metadata": {},
   "outputs": [
    {
     "data": {
      "text/html": [
       "<iframe\n",
       "    scrolling=\"no\"\n",
       "    width=\"100%\"\n",
       "    height=\"545px\"\n",
       "    src=\"iframe_figures/figure_10.html\"\n",
       "    frameborder=\"0\"\n",
       "    allowfullscreen\n",
       "></iframe>\n"
      ]
     },
     "metadata": {},
     "output_type": "display_data"
    }
   ],
   "source": [
    "fig = px.histogram(df, x='PetalLengthCm', color='Species', template='plotly_dark', nbins=30)\n",
    "fig.show(renderer='iframe')"
   ]
  },
  {
   "cell_type": "markdown",
   "id": "e3360db4-a78a-409d-8b74-d009b5261625",
   "metadata": {},
   "source": [
    "These plots show that:\n",
    "- Again **Setosa** has a much smaller **Petal Length** comapared to the other two classes.\n",
    "- **Virginica** has the largest **Petal Length.\n",
    "- There is some overlap between **Versicolor** and **Virginica**, regardless of that **Petal Length** shows some differentiation between the classes."
   ]
  },
  {
   "cell_type": "markdown",
   "id": "a919061c-6fa9-4862-b181-99bea95a0876",
   "metadata": {},
   "source": [
    "### Sepal Width"
   ]
  },
  {
   "cell_type": "code",
   "execution_count": 11,
   "id": "7f0a0676-4033-480d-b72a-642fdf2af2ca",
   "metadata": {},
   "outputs": [
    {
     "data": {
      "text/html": [
       "<iframe\n",
       "    scrolling=\"no\"\n",
       "    width=\"100%\"\n",
       "    height=\"545px\"\n",
       "    src=\"iframe_figures/figure_11.html\"\n",
       "    frameborder=\"0\"\n",
       "    allowfullscreen\n",
       "></iframe>\n"
      ]
     },
     "metadata": {},
     "output_type": "display_data"
    }
   ],
   "source": [
    "fig = px.box(df, x='Species', y='SepalWidthCm', color='Species', template='plotly_dark')\n",
    "fig.show(renderer='iframe')"
   ]
  },
  {
   "cell_type": "code",
   "execution_count": 12,
   "id": "55e37f42-129b-4914-ae61-8a8cce26945f",
   "metadata": {},
   "outputs": [
    {
     "data": {
      "text/html": [
       "<iframe\n",
       "    scrolling=\"no\"\n",
       "    width=\"100%\"\n",
       "    height=\"545px\"\n",
       "    src=\"iframe_figures/figure_12.html\"\n",
       "    frameborder=\"0\"\n",
       "    allowfullscreen\n",
       "></iframe>\n"
      ]
     },
     "metadata": {},
     "output_type": "display_data"
    }
   ],
   "source": [
    "fig = px.histogram(df, x='SepalWidthCm', color='Species', template='plotly_dark', nbins=30)\n",
    "fig.show(renderer='iframe')"
   ]
  },
  {
   "cell_type": "markdown",
   "id": "096eeb4d-7973-4831-8d17-22ba40b6346b",
   "metadata": {},
   "source": [
    "These plots show that:\n",
    "- **Setosa** has the largest **Sepal width**.\n",
    "- **Versicolor** has the smallest **Sepal width**.\n",
    "- There is alot of overlap between the classes, showing that **Sepal Width** might not be a useful feature."
   ]
  },
  {
   "cell_type": "markdown",
   "id": "150fa790-16a4-475b-ab9a-602cf4c9fb7c",
   "metadata": {},
   "source": [
    "### Petal Width"
   ]
  },
  {
   "cell_type": "code",
   "execution_count": 13,
   "id": "0eadf94a-5bcf-4bc8-bf5b-61dbc2c6c359",
   "metadata": {},
   "outputs": [
    {
     "data": {
      "text/html": [
       "<iframe\n",
       "    scrolling=\"no\"\n",
       "    width=\"100%\"\n",
       "    height=\"545px\"\n",
       "    src=\"iframe_figures/figure_13.html\"\n",
       "    frameborder=\"0\"\n",
       "    allowfullscreen\n",
       "></iframe>\n"
      ]
     },
     "metadata": {},
     "output_type": "display_data"
    }
   ],
   "source": [
    "fig = px.box(df, x='Species', y='PetalWidthCm', color='Species', template='plotly_dark')\n",
    "fig.show(renderer='iframe')"
   ]
  },
  {
   "cell_type": "code",
   "execution_count": 14,
   "id": "cd97aa4e-7e88-41d4-8dae-38c84fd0670d",
   "metadata": {},
   "outputs": [
    {
     "data": {
      "text/html": [
       "<iframe\n",
       "    scrolling=\"no\"\n",
       "    width=\"100%\"\n",
       "    height=\"545px\"\n",
       "    src=\"iframe_figures/figure_14.html\"\n",
       "    frameborder=\"0\"\n",
       "    allowfullscreen\n",
       "></iframe>\n"
      ]
     },
     "metadata": {},
     "output_type": "display_data"
    }
   ],
   "source": [
    "fig = px.histogram(df, x='PetalWidthCm', color='Species', template='plotly_dark', nbins=20)\n",
    "fig.show(renderer='iframe')"
   ]
  },
  {
   "cell_type": "markdown",
   "id": "dc416eac-6736-4baa-8b3f-36cd98e077a4",
   "metadata": {},
   "source": [
    "These plots show that:\n",
    "- **Setosa** has much smaller **PetalWidth** than the other 2 classes, it also has 2 outliers.\n",
    "- Again the difference is less clear between **Virginica** and **Versicolor**\n",
    "- Overall this seems like an PetalWidth might be useful in making good predictions."
   ]
  },
  {
   "cell_type": "code",
   "execution_count": 15,
   "id": "b7381838-edb8-4d9c-8b94-8469e3813ae4",
   "metadata": {},
   "outputs": [
    {
     "data": {
      "text/html": [
       "<iframe\n",
       "    scrolling=\"no\"\n",
       "    width=\"100%\"\n",
       "    height=\"545px\"\n",
       "    src=\"iframe_figures/figure_15.html\"\n",
       "    frameborder=\"0\"\n",
       "    allowfullscreen\n",
       "></iframe>\n"
      ]
     },
     "metadata": {},
     "output_type": "display_data"
    }
   ],
   "source": [
    "fig = px.scatter(df, x='SepalLengthCm', y='SepalWidthCm', size='PetalLengthCm', color='Species', template='plotly_dark')\n",
    "fig.show(renderer='iframe')"
   ]
  },
  {
   "cell_type": "code",
   "execution_count": 16,
   "id": "8859d148-09c3-4188-a642-31f211ec5290",
   "metadata": {},
   "outputs": [
    {
     "data": {
      "text/html": [
       "<iframe\n",
       "    scrolling=\"no\"\n",
       "    width=\"100%\"\n",
       "    height=\"545px\"\n",
       "    src=\"iframe_figures/figure_16.html\"\n",
       "    frameborder=\"0\"\n",
       "    allowfullscreen\n",
       "></iframe>\n"
      ]
     },
     "metadata": {},
     "output_type": "display_data"
    }
   ],
   "source": [
    "fig = px.scatter(df, x='SepalLengthCm', y='SepalWidthCm', size='PetalWidthCm', color='Species', template='plotly_dark')\n",
    "fig.show(renderer='iframe')"
   ]
  },
  {
   "cell_type": "code",
   "execution_count": 17,
   "id": "5d922016-8a5b-4433-8699-a4d3dd1f9029",
   "metadata": {},
   "outputs": [
    {
     "data": {
      "text/html": [
       "<iframe\n",
       "    scrolling=\"no\"\n",
       "    width=\"100%\"\n",
       "    height=\"545px\"\n",
       "    src=\"iframe_figures/figure_17.html\"\n",
       "    frameborder=\"0\"\n",
       "    allowfullscreen\n",
       "></iframe>\n"
      ]
     },
     "metadata": {},
     "output_type": "display_data"
    }
   ],
   "source": [
    "fig = px.scatter(df, x='PetalLengthCm', y='PetalWidthCm', size='SepalLengthCm', color='Species', template='plotly_dark')\n",
    "fig.show(renderer='iframe')"
   ]
  },
  {
   "cell_type": "code",
   "execution_count": 18,
   "id": "7fe05c25-9b29-44e0-9aee-0a335855d896",
   "metadata": {},
   "outputs": [
    {
     "data": {
      "text/html": [
       "<iframe\n",
       "    scrolling=\"no\"\n",
       "    width=\"100%\"\n",
       "    height=\"545px\"\n",
       "    src=\"iframe_figures/figure_18.html\"\n",
       "    frameborder=\"0\"\n",
       "    allowfullscreen\n",
       "></iframe>\n"
      ]
     },
     "metadata": {},
     "output_type": "display_data"
    }
   ],
   "source": [
    "fig = px.scatter(df, x='PetalLengthCm', y='PetalWidthCm', size='SepalWidthCm', color='Species', template='plotly_dark')\n",
    "fig.show(renderer='iframe')"
   ]
  },
  {
   "cell_type": "markdown",
   "id": "331f2914-d7df-45af-a17f-1c28a4d644a0",
   "metadata": {},
   "source": [
    "These plots show us that:\n",
    "- **Setosa** is the smaller of the three flower species.\n",
    "- **Virginica** is the largest of the three flower species.\n",
    "- **Versicolor** and **Virginica** show overlap , making them difficult to distinguish.\n",
    "- There is a positive correlation between some of the features."
   ]
  },
  {
   "cell_type": "markdown",
   "id": "3f1dbcc2-7efc-4943-b490-244e9570f2a7",
   "metadata": {},
   "source": [
    "# Date Processing"
   ]
  },
  {
   "cell_type": "code",
   "execution_count": 19,
   "id": "2f1df99e-ed11-4fb9-b007-0dc85d387ff1",
   "metadata": {},
   "outputs": [],
   "source": [
    "# Setting the features\n",
    "X = df.iloc[:,:-1]\n",
    "\n",
    "# Setting the labels\n",
    "y = df.iloc[:,-1]"
   ]
  },
  {
   "cell_type": "code",
   "execution_count": 20,
   "id": "87bae2d3-2f39-40bb-a841-e96db4e309e4",
   "metadata": {},
   "outputs": [],
   "source": [
    "def train_test_split(X, y, test_size=0.2, random_state=42):\n",
    "    \"\"\"\n",
    "    Splits the data into training and testing sets.\n",
    "\n",
    "    Parameters:\n",
    "        X (numpy.ndarray): Features array of shape (n_samples, n_features).\n",
    "        y (numpy.ndarray): Target array of shape (n_samples,).\n",
    "        test_size (float): Proportion of samples to include in the test set. Default is 0.2.\n",
    "        random_state (int): Seed for the random number generator. Default is 42.\n",
    "        \n",
    "\n",
    "    Returns:\n",
    "        Tuple[numpy.ndarray]: A tuple containing X_train, X_test, y_train, y_test.\n",
    "    \"\"\"\n",
    "\n",
    "    # Get number of samples\n",
    "    n_samples = X.shape[0]\n",
    "\n",
    "    # Set the seed for the random number generator\n",
    "    np.random.seed(random_state)\n",
    "\n",
    "    # Shuffle the indices\n",
    "    shuffled_indices = np.random.permutation(np.arange(n_samples))\n",
    "\n",
    "    # Determine the size of the test set\n",
    "    test_size = int(n_samples * test_size)\n",
    "\n",
    "    # Split the indices into test and train\n",
    "    test_indices = shuffled_indices[:test_size]\n",
    "    train_indices = shuffled_indices[test_size:]\n",
    "\n",
    "    # Split the features and target arrays into test and train\n",
    "    X_train, X_test = X[train_indices], X[test_indices]\n",
    "    y_train, y_test = y[train_indices], y[test_indices]\n",
    "\n",
    "    return X_train, X_test, y_train, y_test"
   ]
  },
  {
   "cell_type": "code",
   "execution_count": 21,
   "id": "0f31f239-3fb7-49e9-b9cd-4d863821a73d",
   "metadata": {},
   "outputs": [],
   "source": [
    "# Splitting the data into training and testing sets\n",
    "X_train, X_test, y_train, y_test = train_test_split(X.values, y.values, test_size = 0.2, random_state=42)"
   ]
  },
  {
   "cell_type": "markdown",
   "id": "41abd16b-bc5d-4471-8da7-0a9163dfc6f0",
   "metadata": {},
   "source": [
    "# Model Implementation"
   ]
  },
  {
   "cell_type": "markdown",
   "id": "1d6534b2-dcef-4edc-a190-958399f055f6",
   "metadata": {},
   "source": [
    "## What is K-Nearest Neighbors (KNN)?\n",
    "\n",
    "**K-Nearest Neighbors (KNN)** is a **supervised machine learning algorithm** primarily used for **classification**, but it can also be applied to **regression** tasks.  \n",
    "\n",
    "It works by finding the **“k” closest data points (neighbors)** to a given input and making predictions based on:  \n",
    "- The **majority class** (for classification), or  \n",
    "- The **average value** (for regression).  \n",
    "\n",
    "Since KNN makes **no assumptions** about the underlying data distribution, it is considered a **non-parametric** and **instance-based learning** method.  \n",
    "\n",
    "KNN is also known as a **lazy learner** because it doesn’t build an explicit model during training.  \n",
    "Instead, it **stores the entire dataset** and performs computations **only at the time of prediction**.  \n",
    "\n",
    "---\n",
    "\n",
    "## How does KNN work?\n",
    "\n",
    "1. **Compute Distances:**  \n",
    "   Calculate the **Euclidean distance** between the new sample and all data points in the training set.\n",
    "\n",
    "2. **Find Nearest Neighbors:**  \n",
    "   Select the **k data points** that are closest to the new sample.\n",
    "\n",
    "3. **Make a Prediction:**  \n",
    "   - For **classification** → choose the **majority class** among the neighbors.  \n",
    "   - For **regression** → take the **average value** of the neighbors.\n",
    "\n",
    "\n",
    "## Euclidean Distance  \n",
    "\n",
    "To classify a test sample $X_{\\text{test}}$, we calculate its distance from every training sample $X_i$ using the Euclidean distance formula:\n",
    "\n",
    "$$\n",
    "d(X_{\\text{test}}, X_i) = \\sqrt{\\sum_{j=1}^{n} (X_{\\text{test},j} - X_{i,j})^2}\n",
    "$$\n",
    "\n",
    "### Notation\n",
    "- $n$: Number of features  \n",
    "- $X_{\\text{test},j}$: The $j^{th}$ feature value of the test sample  \n",
    "- $X_{i,j}$: The $j^{th}$ feature value of the $i^{th}$ training sample  \n",
    "- $d(X_{\\text{test}}, X_i)$: Euclidean distance between the test sample and the $i^{th}$ training sample "
   ]
  },
  {
   "cell_type": "code",
   "execution_count": 22,
   "id": "8d7f192c-6772-405a-8ffb-783375bc6011",
   "metadata": {},
   "outputs": [],
   "source": [
    "import numpy as np\n",
    "from collections import Counter\n",
    "\n",
    "class KNN:\n",
    "\n",
    "    def __init__(self, k=3):\n",
    "        self.k = k\n",
    "        self.X_train = None\n",
    "        self.y_train = None\n",
    "\n",
    "    def euclidean_distance(self, x1, x2):\n",
    "        \"\"\"\n",
    "        Calculate the Euclidean distance between two data points.\n",
    "\n",
    "        Parameters:\n",
    "        -----------\n",
    "        x1 : numpy.ndarray, shape (n_features,)\n",
    "            A data point in the dataset.\n",
    "            \n",
    "        x2 : numpy.ndarray, shape (n_features,)\n",
    "            A data point in the dataset.\n",
    "\n",
    "        Returns:\n",
    "        --------\n",
    "        distance : float\n",
    "            The Euclidean distance between x1 and x2.\n",
    "        \"\"\"\n",
    "        return np.sqrt(np.sum((x1 - x2) ** 2))\n",
    "\n",
    "\n",
    "    def fit(self, X_train, y_train):\n",
    "        \"\"\"\n",
    "        Stores the values of X_train and y_train.\n",
    "\n",
    "        Parameters:\n",
    "        -----------\n",
    "        X_train : numpy.ndarray, shape (n_samples, n_features)\n",
    "            The training dataset.\n",
    "\n",
    "        y_train : numpy.ndarray, shape (n_samples,)\n",
    "            The target labels.\n",
    "        \"\"\"\n",
    "        self.X_train = X_train\n",
    "        self.y_train = y_train\n",
    "\n",
    "\n",
    "    def predict(self, X):\n",
    "        \"\"\"\n",
    "        Predicts the class labels for each example in X.\n",
    "\n",
    "        Parameters:\n",
    "        -----------\n",
    "        X : numpy.ndarray, shape (n_samples, n_features)\n",
    "            The test dataset.\n",
    "\n",
    "        Returns:\n",
    "        --------\n",
    "        predictions : numpy.ndarray, shape (n_samples,)\n",
    "            The predicted class labels for each example in X.\n",
    "        \"\"\"\n",
    "        \n",
    "        # Create empty array to store the predictions\n",
    "        predictions = []\n",
    "        # Loop over X examples\n",
    "        \n",
    "        for x_test in X:\n",
    "            # Get prediction using the prediction helper function\n",
    "            prediction = self._predict(x_test)\n",
    "            # Append the prediction to the predictions list\n",
    "            predictions.append(prediction)\n",
    "            \n",
    "        return np.array(predictions)\n",
    "\n",
    "        \n",
    "    def _predict(self, x_test):\n",
    "        \"\"\"\n",
    "        Predicts the class label for a single example.\n",
    "\n",
    "        Parameters:\n",
    "        -----------\n",
    "        x : numpy.ndarray, shape (n_features,)\n",
    "            A data point in the test dataset.\n",
    "\n",
    "        Returns:\n",
    "        --------\n",
    "        most_occuring_value : int\n",
    "            The predicted class label for x.\n",
    "        \"\"\"\n",
    "\n",
    "        # Create empty array to store distances\n",
    "        distances = []\n",
    "        # Loop over all training examples and compute the distance between x_test and all the training examples \n",
    "        \n",
    "        for x_train in self.X_train:\n",
    "            distance = self.euclidean_distance(x_test, x_train)\n",
    "            distances.append(distance)\n",
    "            \n",
    "        distances = np.array(distances)\n",
    "        \n",
    "        # Sort ascendingly and return indices of the given k neighbors\n",
    "        k_neighbors_idx = np.argsort(distances)[:self.k]\n",
    "        \n",
    "        # Get labels of k-neighbor\n",
    "        k_neighbors_labels = self.y_train[k_neighbors_idx]\n",
    "\n",
    "        #Get the most frequent class in the array\n",
    "        most_common_label = Counter(k_neighbors_labels).most_common(1)[0][0]\n",
    "        return most_common_label"
   ]
  },
  {
   "cell_type": "code",
   "execution_count": 23,
   "id": "f1b75f84-2584-4948-8d20-c163096e6340",
   "metadata": {},
   "outputs": [],
   "source": [
    "clf = KNN(7)\n",
    "clf.fit(X_train, y_train)"
   ]
  },
  {
   "cell_type": "code",
   "execution_count": 24,
   "id": "88259df8-0532-4959-b755-cd4953161b72",
   "metadata": {},
   "outputs": [],
   "source": [
    "def compute_accuracy(y_true, y_pred):\n",
    "    \"\"\"\n",
    "    Computes the accuracy of a classification model.\n",
    "\n",
    "    Parameters:\n",
    "    y_true (numpy array): A numpy array of true labels for each data point.\n",
    "    y_pred (numpy array): A numpy array of predicted labels for each data point.\n",
    "\n",
    "    Returns:\n",
    "    float: The accuracy of the model, expressed as a percentage.\n",
    "    \"\"\"\n",
    "    y_true = y_true.flatten()\n",
    "    total_samples = len(y_true)\n",
    "    correct_predictions = np.sum(y_true == y_pred)\n",
    "    return (correct_predictions / total_samples) "
   ]
  },
  {
   "cell_type": "code",
   "execution_count": 25,
   "id": "9180b3ad-cf7b-4d9e-b842-3d8565aafc13",
   "metadata": {},
   "outputs": [
    {
     "name": "stdout",
     "output_type": "stream",
     "text": [
      " Classifier Accuracy  : 0.9666666666666667\n"
     ]
    }
   ],
   "source": [
    "predictions = clf.predict(X_test)\n",
    "accuracy = compute_accuracy(y_test, predictions)\n",
    "print(f\" Classifier Accuracy  : {accuracy}\")    "
   ]
  },
  {
   "cell_type": "markdown",
   "id": "37064d82-1169-4557-976c-bbb395a8d6f6",
   "metadata": {},
   "source": [
    "# Thank You\n",
    "If anyone has any suggestion, please do let me know."
   ]
  }
 ],
 "metadata": {
  "kernelspec": {
   "display_name": "Python 3 (ipykernel)",
   "language": "python",
   "name": "python3"
  },
  "language_info": {
   "codemirror_mode": {
    "name": "ipython",
    "version": 3
   },
   "file_extension": ".py",
   "mimetype": "text/x-python",
   "name": "python",
   "nbconvert_exporter": "python",
   "pygments_lexer": "ipython3",
   "version": "3.13.5"
  }
 },
 "nbformat": 4,
 "nbformat_minor": 5
}
