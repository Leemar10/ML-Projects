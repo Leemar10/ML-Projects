{
 "cells": [
  {
   "cell_type": "code",
   "execution_count": 2,
   "id": "4448167d-2e4a-4d33-a16a-b8dc7f8f8c6e",
   "metadata": {},
   "outputs": [],
   "source": [
    "from sklearn.datasets import load_diabetes\n",
    "from sklearn.linear_model import LinearRegression, Ridge, Lasso, ElasticNet\n",
    "from sklearn.model_selection import train_test_split as tts\n",
    "from sklearn.metrics import r2_score"
   ]
  },
  {
   "cell_type": "code",
   "execution_count": 5,
   "id": "008179d5-dd81-413c-832b-f656ef1df567",
   "metadata": {},
   "outputs": [],
   "source": [
    "X, y = load_diabetes(return_X_y = True)"
   ]
  },
  {
   "cell_type": "code",
   "execution_count": 14,
   "id": "0282741b-1e1a-406c-9fdc-8fad83790dea",
   "metadata": {},
   "outputs": [
    {
     "data": {
      "text/plain": [
       "((442, 10), (442,))"
      ]
     },
     "execution_count": 14,
     "metadata": {},
     "output_type": "execute_result"
    }
   ],
   "source": [
    "X.shape, y.shape"
   ]
  },
  {
   "cell_type": "code",
   "execution_count": 15,
   "id": "8030c376-949d-4256-bbfc-713dfff6c758",
   "metadata": {},
   "outputs": [],
   "source": [
    "X_train, X_test, y_train, y_test = tts(X,y,test_size=0.2,random_state=2)"
   ]
  },
  {
   "cell_type": "code",
   "execution_count": 16,
   "id": "e525e4bd-26fd-483f-b511-d873afdb6170",
   "metadata": {},
   "outputs": [
    {
     "data": {
      "text/plain": [
       "0.4399338661568969"
      ]
     },
     "execution_count": 16,
     "metadata": {},
     "output_type": "execute_result"
    }
   ],
   "source": [
    "# Linear Regression\n",
    "lr = LinearRegression()\n",
    "lr.fit(X_train, y_train)\n",
    "y_pred = lr.predict(X_test)\n",
    "r2_score(y_test, y_pred)"
   ]
  },
  {
   "cell_type": "code",
   "execution_count": 17,
   "id": "1c724b7e-895f-49c5-a6ff-f80307629011",
   "metadata": {},
   "outputs": [
    {
     "data": {
      "text/plain": [
       "0.44086171139200314"
      ]
     },
     "execution_count": 17,
     "metadata": {},
     "output_type": "execute_result"
    }
   ],
   "source": [
    "# Ridge\n",
    "r = Ridge(alpha=0.001)\n",
    "r.fit(X_train, y_train)\n",
    "y_pred = r.predict(X_test)\n",
    "r2_score(y_test, y_pred)"
   ]
  },
  {
   "cell_type": "code",
   "execution_count": 19,
   "id": "7ea6e5db-61ff-4513-8e70-31131c7a7357",
   "metadata": {},
   "outputs": [
    {
     "data": {
      "text/plain": [
       "0.44030096069159663"
      ]
     },
     "execution_count": 19,
     "metadata": {},
     "output_type": "execute_result"
    }
   ],
   "source": [
    "# Lasso\n",
    "l = Lasso(alpha=0.001)\n",
    "l.fit(X_train, y_train)\n",
    "y_pred = l.predict(X_test)\n",
    "r2_score(y_test, y_pred)"
   ]
  },
  {
   "cell_type": "code",
   "execution_count": 36,
   "id": "e5c13dd4-cd21-4285-8c2d-6dc99b88b83b",
   "metadata": {},
   "outputs": [
    {
     "data": {
      "text/plain": [
       "0.45356445261230227"
      ]
     },
     "execution_count": 36,
     "metadata": {},
     "output_type": "execute_result"
    }
   ],
   "source": [
    "# Elastic Net\n",
    "en = ElasticNet(alpha=0.001, l1_ratio=0.5)\n",
    "en.fit(X_train, y_train)\n",
    "y_pred = en.predict(X_test)\n",
    "r2_score(y_test, y_pred)"
   ]
  }
 ],
 "metadata": {
  "kernelspec": {
   "display_name": "Python 3 (ipykernel)",
   "language": "python",
   "name": "python3"
  },
  "language_info": {
   "codemirror_mode": {
    "name": "ipython",
    "version": 3
   },
   "file_extension": ".py",
   "mimetype": "text/x-python",
   "name": "python",
   "nbconvert_exporter": "python",
   "pygments_lexer": "ipython3",
   "version": "3.13.5"
  }
 },
 "nbformat": 4,
 "nbformat_minor": 5
}
