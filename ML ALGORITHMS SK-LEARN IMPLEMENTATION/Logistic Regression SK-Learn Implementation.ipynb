{
 "cells": [
  {
   "cell_type": "markdown",
   "id": "0492e7f9-b930-4e5d-a3d9-3c748e09ae71",
   "metadata": {},
   "source": [
    "# Overview  \n",
    "\n",
    "This is the third notebook in my series where I’ll be implementing machine learning algorithms using the **Scikit-Learn** library.  \n",
    "\n",
    "In this notebook, we’ll explore **Logistic Regression**, a fundamental classification algorithm that extends the principles of Linear Regression to handle categorical outcomes. \n",
    "\n",
    " If you’d like to see how this algorithm can be implemented **from scratch**, check out this [notebook](https://www.kaggle.com/code/rameelsohail/logistic-regression-from-scratch).  "
   ]
  },
  {
   "cell_type": "markdown",
   "id": "655c988a-1f12-40a1-a2cb-a0c432da5fc7",
   "metadata": {},
   "source": [
    "# Imports"
   ]
  },
  {
   "cell_type": "code",
   "execution_count": null,
   "id": "04dca76d-bd12-4321-8c21-45f906e372fe",
   "metadata": {},
   "outputs": [],
   "source": [
    "import math\n",
    "import numpy as np\n",
    "import pandas as pd\n",
    "import matplotlib.pyplot as plt\n",
    "import plotly.express as px\n",
    "import seaborn as sns\n",
    "\n",
    "from sklearn.linear_model import LogisticRegression\n",
    "from sklearn.preprocessing import StandardScaler\n",
    "from sklearn.model_selection import train_test_split\n",
    "from sklearn.metrics import accuracy_score, precision_score, recall_score, f1_score, classification_report"
   ]
  },
  {
   "cell_type": "markdown",
   "id": "a05c8446-7c42-40dd-bc68-cbaebe3490b8",
   "metadata": {},
   "source": [
    "# Data Loading and Analysis"
   ]
  },
  {
   "cell_type": "code",
   "execution_count": null,
   "id": "21dbad72-326e-464a-94f4-f53e6a419a4d",
   "metadata": {},
   "outputs": [],
   "source": [
    "df = pd.read_csv('breast-cancer.csv')"
   ]
  },
  {
   "cell_type": "code",
   "execution_count": null,
   "id": "7731798a-da76-4365-839a-baf68688ee38",
   "metadata": {},
   "outputs": [],
   "source": [
    "df.head()"
   ]
  },
  {
   "cell_type": "code",
   "execution_count": null,
   "id": "16d541af-5e9d-48f3-bea4-af21a49893e0",
   "metadata": {},
   "outputs": [],
   "source": [
    "df.shape"
   ]
  },
  {
   "cell_type": "markdown",
   "id": "f9e85e11-892a-45c3-b666-69b6a2d30cc9",
   "metadata": {},
   "source": [
    "Currently, our dataset contains **32 independent variables**.  \n",
    "Having that many features doesn’t necessarily improve our model — instead, it can make training slower and potentially lead to overfitting.  \n",
    "\n",
    "So, we’ll perform some **Exploratory Data Analysis (EDA)** to identify and extract the **most important features** that truly impact our target variable."
   ]
  },
  {
   "cell_type": "code",
   "execution_count": null,
   "id": "b50bd0bf-04d4-4a2b-88fb-a5428f265343",
   "metadata": {
    "scrolled": true
   },
   "outputs": [],
   "source": [
    "df.describe().T"
   ]
  },
  {
   "cell_type": "code",
   "execution_count": null,
   "id": "c61e839c-c1dd-46b1-a6bf-202e0f3d7084",
   "metadata": {},
   "outputs": [],
   "source": [
    "fig = px.histogram(data_frame=df, x='diagnosis', color='diagnosis', color_discrete_sequence=['#05445E','#75E6DA'])\n",
    "fig.show(renderer='iframe')"
   ]
  },
  {
   "cell_type": "code",
   "execution_count": null,
   "id": "5e3739e6-6baf-4f84-8ab0-d6497d79ef8c",
   "metadata": {},
   "outputs": [],
   "source": [
    "fig = px.histogram(data_frame=df, x='radius_mean', color='diagnosis', color_discrete_sequence=['#05445E','#75E6DA'])\n",
    "fig.show(renderer='iframe')"
   ]
  },
  {
   "cell_type": "code",
   "execution_count": null,
   "id": "0548dfbe-8e51-4999-8bce-aef96b1c584d",
   "metadata": {},
   "outputs": [],
   "source": [
    "fig = px.histogram(data_frame=df, x='area_mean', color='diagnosis', color_discrete_sequence=['#05445E','#75E6DA'])\n",
    "fig.show(renderer='iframe')"
   ]
  },
  {
   "cell_type": "code",
   "execution_count": null,
   "id": "e5235cec-7064-47d0-9fda-7ab89c7345c3",
   "metadata": {},
   "outputs": [],
   "source": [
    "fig = px.histogram(data_frame=df, x='perimeter_mean', color='diagnosis', color_discrete_sequence=['#05445E','#75E6DA'])\n",
    "fig.show(renderer='iframe')"
   ]
  },
  {
   "cell_type": "code",
   "execution_count": null,
   "id": "431f7527-dfdb-41eb-b599-54cb7a17af0f",
   "metadata": {},
   "outputs": [],
   "source": [
    "fig = px.histogram(data_frame=df, x='texture_mean', color='diagnosis', color_discrete_sequence=['#05445E','#75E6DA'])\n",
    "fig.show(renderer='iframe')"
   ]
  },
  {
   "cell_type": "code",
   "execution_count": null,
   "id": "898f0f04-6257-4944-8901-aa27d48bb6fc",
   "metadata": {},
   "outputs": [],
   "source": [
    "fig = px.histogram(data_frame=df, x='smoothness_mean', color='diagnosis', color_discrete_sequence=['#05445E','#75E6DA'])\n",
    "fig.show(renderer='iframe')"
   ]
  },
  {
   "cell_type": "markdown",
   "id": "68e63c99-ba85-4d0c-8b96-2578da6a425c",
   "metadata": {},
   "source": [
    "# Data Processing"
   ]
  },
  {
   "cell_type": "code",
   "execution_count": null,
   "id": "4665416f-f3e1-4375-89d9-c201f4d35686",
   "metadata": {},
   "outputs": [],
   "source": [
    "df.drop('id', axis=1, inplace=True) #drop redundant columns"
   ]
  },
  {
   "cell_type": "code",
   "execution_count": null,
   "id": "927626a8-3c36-495e-a871-20b44aba3737",
   "metadata": {},
   "outputs": [],
   "source": [
    "df['diagnosis'] = (df['diagnosis'] == 'M').astype(int) #encode the label into 1(M)/0(B)"
   ]
  },
  {
   "cell_type": "code",
   "execution_count": null,
   "id": "9f6f64e9-ba73-4b9f-a4e2-d9990f7ad069",
   "metadata": {},
   "outputs": [],
   "source": [
    "df.head()"
   ]
  },
  {
   "cell_type": "markdown",
   "id": "00ca0daa-2aec-4985-a552-77c7161de762",
   "metadata": {},
   "source": [
    "Now we'll extract the **correlation values** of each feature with our target label, and select only those features that show a **correlation greater than 0.2**.  \n",
    "This helps us focus on the most relevant variables and reduce unnecessary noise in our dataset."
   ]
  },
  {
   "cell_type": "code",
   "execution_count": null,
   "id": "a6bff767-a049-4040-a0ef-841364a642a8",
   "metadata": {},
   "outputs": [],
   "source": [
    "corr = df.corr()"
   ]
  },
  {
   "cell_type": "code",
   "execution_count": null,
   "id": "3e4441ae-6165-4022-8899-cd2c6b076f46",
   "metadata": {},
   "outputs": [],
   "source": [
    "# The heatmap helps visualize the correlation values\n",
    "plt.figure(figsize=(20,20))\n",
    "sns.heatmap(corr, cmap='RdBu',annot=True)\n",
    "plt.show()"
   ]
  },
  {
   "cell_type": "code",
   "execution_count": null,
   "id": "75c80679-75a0-4761-a433-ea3ef8ea2298",
   "metadata": {},
   "outputs": [],
   "source": [
    "# Get the absolute value of the correlation\n",
    "cor_target = abs(corr[\"diagnosis\"])\n",
    "\n",
    "# Select highly correlated features (thresold = 0.2)\n",
    "relevant_features = cor_target[cor_target>0.2]\n",
    "\n",
    "# Collect the names of the features\n",
    "names = [index for index, value in relevant_features.items()]\n",
    "\n",
    "# Drop the target variable from the results\n",
    "names.remove('diagnosis')\n",
    "len(names)"
   ]
  },
  {
   "cell_type": "code",
   "execution_count": null,
   "id": "901fd4a8-197d-4cfb-88e5-77697167094c",
   "metadata": {},
   "outputs": [],
   "source": [
    "X = df[names].values\n",
    "y = df['diagnosis'].values"
   ]
  },
  {
   "cell_type": "code",
   "execution_count": null,
   "id": "40e4492c-20d5-4f77-b9ef-1c301b65b8c7",
   "metadata": {},
   "outputs": [],
   "source": [
    "# Splitting into training and testing sets\n",
    "X_train, X_test, y_train, y_test = train_test_split(X, y, test_size=0.2, random_state=42)"
   ]
  },
  {
   "cell_type": "code",
   "execution_count": null,
   "id": "175f823f-9862-4bd7-8ced-e3581de8e83c",
   "metadata": {},
   "outputs": [],
   "source": [
    "X_train.shape, X_test.shape, y_train.shape, y_test.shape"
   ]
  },
  {
   "cell_type": "code",
   "execution_count": null,
   "id": "b1fe05e1-a1db-45db-a64a-85de62867781",
   "metadata": {},
   "outputs": [],
   "source": [
    "# Standardizing the data so that our model converges faster\n",
    "standardizer = StandardScaler()\n",
    "X_train = standardizer.fit_transform(X_train)\n",
    "X_test = standardizer.transform(X_test)"
   ]
  },
  {
   "cell_type": "markdown",
   "id": "ce8af292-2919-4a52-a8b7-bb5cdcb3cede",
   "metadata": {},
   "source": [
    "# Model Implementation"
   ]
  },
  {
   "cell_type": "code",
   "execution_count": null,
   "id": "179cd19e-4cce-49ee-89c2-69cc66b29e15",
   "metadata": {},
   "outputs": [],
   "source": [
    "lg = LogisticRegression()\n",
    "lg.fit(X_train, y_train)"
   ]
  },
  {
   "cell_type": "markdown",
   "id": "f5013c09-9a2d-442b-bf4c-e4776a746212",
   "metadata": {},
   "source": [
    "# Evaluation"
   ]
  },
  {
   "cell_type": "code",
   "execution_count": null,
   "id": "65983643-d763-4a01-8c1f-279a7ebf9a48",
   "metadata": {},
   "outputs": [],
   "source": [
    "# Making predictions using our model\n",
    "y_pred = lg.predict(X_test)\n",
    "\n",
    "# Evaluating the model using classification metrics\n",
    "accuracy = accuracy_score(y_test, y_pred)\n",
    "precision = precision_score(y_test, y_pred)\n",
    "recall = recall_score(y_test, y_pred)\n",
    "f1 = f1_score(y_test, y_pred)"
   ]
  },
  {
   "cell_type": "code",
   "execution_count": null,
   "id": "a87a49f5-1616-45c3-a515-21e3294921c1",
   "metadata": {},
   "outputs": [],
   "source": [
    "print(f\"Accuracy: {accuracy:.2%}\")\n",
    "print(f\"Precision: {precision:.2%}\")\n",
    "print(f\"Recall: {recall:.2%}\")\n",
    "print(f\"F1-Score: {f1:.2%}\")"
   ]
  },
  {
   "cell_type": "code",
   "execution_count": null,
   "id": "c8c1445b-2e93-4da3-9810-50c191020b68",
   "metadata": {},
   "outputs": [],
   "source": [
    "# If you'd like the complete summary in one table\n",
    "report = classification_report(y_test, y_pred)"
   ]
  },
  {
   "cell_type": "code",
   "execution_count": null,
   "id": "0e991dc3-809d-4484-bb6b-cf4daea41a55",
   "metadata": {},
   "outputs": [],
   "source": [
    "print(report)"
   ]
  }
 ],
 "metadata": {
  "kernelspec": {
   "display_name": "Python 3 (ipykernel)",
   "language": "python",
   "name": "python3"
  },
  "language_info": {
   "codemirror_mode": {
    "name": "ipython",
    "version": 3
   },
   "file_extension": ".py",
   "mimetype": "text/x-python",
   "name": "python",
   "nbconvert_exporter": "python",
   "pygments_lexer": "ipython3",
   "version": "3.13.5"
  }
 },
 "nbformat": 4,
 "nbformat_minor": 5
}
