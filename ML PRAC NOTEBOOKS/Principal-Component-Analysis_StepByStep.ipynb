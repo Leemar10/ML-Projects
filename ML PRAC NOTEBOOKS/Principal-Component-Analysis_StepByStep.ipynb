{
 "cells": [
  {
   "cell_type": "code",
   "execution_count": 8,
   "id": "5220e93b-7fac-41f5-be5d-217df099fbc1",
   "metadata": {},
   "outputs": [],
   "source": [
    "import numpy as np\n",
    "import pandas as pd\n",
    "\n",
    "np.random.seed(23) \n",
    "\n",
    "mu_vec1 = np.array([0,0,0])\n",
    "cov_mat1 = np.array([[1,0,0],[0,1,0],[0,0,1]])\n",
    "class1_sample = np.random.multivariate_normal(mu_vec1, cov_mat1, 20)\n",
    "\n",
    "df = pd.DataFrame(class1_sample,columns=['feature1','feature2','feature3'])\n",
    "df['target'] = 1\n",
    "\n",
    "mu_vec2 = np.array([1,1,1])\n",
    "cov_mat2 = np.array([[1,0,0],[0,1,0],[0,0,1]])\n",
    "class2_sample = np.random.multivariate_normal(mu_vec2, cov_mat2, 20)\n",
    "\n",
    "df1 = pd.DataFrame(class2_sample,columns=['feature1','feature2','feature3'])\n",
    "\n",
    "df1['target'] = 0\n",
    "\n",
    "df = pd.concat([df, df1], ignore_index=True)\n",
    "\n",
    "df = df.sample(40)"
   ]
  },
  {
   "cell_type": "code",
   "execution_count": 10,
   "id": "fcffb811-daa6-4063-8230-870724fc366a",
   "metadata": {},
   "outputs": [
    {
     "data": {
      "text/html": [
       "<div>\n",
       "<style scoped>\n",
       "    .dataframe tbody tr th:only-of-type {\n",
       "        vertical-align: middle;\n",
       "    }\n",
       "\n",
       "    .dataframe tbody tr th {\n",
       "        vertical-align: top;\n",
       "    }\n",
       "\n",
       "    .dataframe thead th {\n",
       "        text-align: right;\n",
       "    }\n",
       "</style>\n",
       "<table border=\"1\" class=\"dataframe\">\n",
       "  <thead>\n",
       "    <tr style=\"text-align: right;\">\n",
       "      <th></th>\n",
       "      <th>feature1</th>\n",
       "      <th>feature2</th>\n",
       "      <th>feature3</th>\n",
       "      <th>target</th>\n",
       "    </tr>\n",
       "  </thead>\n",
       "  <tbody>\n",
       "    <tr>\n",
       "      <th>2</th>\n",
       "      <td>-0.367548</td>\n",
       "      <td>-1.137460</td>\n",
       "      <td>-1.322148</td>\n",
       "      <td>1</td>\n",
       "    </tr>\n",
       "    <tr>\n",
       "      <th>34</th>\n",
       "      <td>0.177061</td>\n",
       "      <td>-0.598109</td>\n",
       "      <td>1.226512</td>\n",
       "      <td>0</td>\n",
       "    </tr>\n",
       "    <tr>\n",
       "      <th>14</th>\n",
       "      <td>0.420623</td>\n",
       "      <td>0.411620</td>\n",
       "      <td>-0.071324</td>\n",
       "      <td>1</td>\n",
       "    </tr>\n",
       "    <tr>\n",
       "      <th>11</th>\n",
       "      <td>1.968435</td>\n",
       "      <td>-0.547788</td>\n",
       "      <td>-0.679418</td>\n",
       "      <td>1</td>\n",
       "    </tr>\n",
       "    <tr>\n",
       "      <th>12</th>\n",
       "      <td>-2.506230</td>\n",
       "      <td>0.146960</td>\n",
       "      <td>0.606195</td>\n",
       "      <td>1</td>\n",
       "    </tr>\n",
       "  </tbody>\n",
       "</table>\n",
       "</div>"
      ],
      "text/plain": [
       "    feature1  feature2  feature3  target\n",
       "2  -0.367548 -1.137460 -1.322148       1\n",
       "34  0.177061 -0.598109  1.226512       0\n",
       "14  0.420623  0.411620 -0.071324       1\n",
       "11  1.968435 -0.547788 -0.679418       1\n",
       "12 -2.506230  0.146960  0.606195       1"
      ]
     },
     "execution_count": 10,
     "metadata": {},
     "output_type": "execute_result"
    }
   ],
   "source": [
    "df.head()"
   ]
  },
  {
   "cell_type": "code",
   "execution_count": 16,
   "id": "7a4483b7-a1b5-422e-908a-ea0689d2b442",
   "metadata": {},
   "outputs": [
    {
     "data": {
      "application/vnd.plotly.v1+json": {
       "config": {
        "plotlyServerURL": "https://plot.ly"
       },
       "data": [
        {
         "hovertemplate": "color=1<br>feature1=%{x}<br>feature2=%{y}<br>feature3=%{z}<extra></extra>",
         "legendgroup": "1",
         "marker": {
          "color": "#636efa",
          "line": {
           "color": "DarkSlateGrey",
           "width": 2
          },
          "size": 12,
          "symbol": "circle"
         },
         "mode": "markers",
         "name": "1",
         "scene": "scene",
         "showlegend": true,
         "type": "scatter3d",
         "x": {
          "_inputArray": {
           "0": -0.3675481161171661,
           "1": 0.4206226601707677,
           "10": -0.9925737805679127,
           "11": -0.4208439532804717,
           "12": 0.9486338224949431,
           "13": 1.4153199811177524,
           "14": 1.0453712773541248,
           "15": -1.8380677677579502,
           "16": 0.19014135902999077,
           "17": -0.022538890053004787,
           "18": 1.267248208556173,
           "19": 1.7722582783074305,
           "2": 1.9684347309098176,
           "3": -2.506230317020084,
           "4": 0.3222715203493051,
           "5": -0.33161712421648365,
           "6": 0.6669880563534684,
           "7": -1.0099418765878465,
           "8": 0.2411063006295245,
           "9": -0.045437575551217295,
           "bdata": "NH+biOiF179B9VhOe+vaP3UXmWq1fv8/gcL+esIMBMAXRxW6GKDUP11q0wc3OdW/R4sbVvdX5T8F5CzQuCjwv+sbCD6S3M4/HwcBCphDp78gAM0WKsPvv0vGA3ob79q/FtlvUTVb7j/XaoSQJqX2P5CehjvXufA/SKJlv7lo/b+RTVNTjVbIPzzGqU5vFJe/FZ26DqZG9D+1VBZ/K1v8Pw==",
           "dtype": "f8",
           "shape": "20"
          },
          "bdata": "NH+biOiF179B9VhOe+vaP3UXmWq1fv8/gcL+esIMBMAXRxW6GKDUP11q0wc3OdW/R4sbVvdX5T8F5CzQuCjwv+sbCD6S3M4/HwcBCphDp78gAM0WKsPvv0vGA3ob79q/FtlvUTVb7j/XaoSQJqX2P5CehjvXufA/SKJlv7lo/b+RTVNTjVbIPzzGqU5vFJe/FZ26DqZG9D+1VBZ/K1v8Pw==",
          "dtype": "f8"
         },
         "y": {
          "_inputArray": {
           "0": -1.1374596907250272,
           "1": 0.4116196409053295,
           "10": -0.16134638680500063,
           "11": -0.5519885648743732,
           "12": 0.701671794647513,
           "13": 0.4577109797826604,
           "14": 0.5381619658145043,
           "15": -0.9387686311201282,
           "16": 0.5121373947463833,
           "17": 0.013422257380147637,
           "18": 0.1736336445901797,
           "19": -0.34745899102186334,
           "2": -0.547788007825014,
           "3": 0.14696049490701452,
           "4": 0.060342934170488124,
           "5": -1.6323862806162175,
           "6": 0.02581308106627382,
           "7": 0.44173637238220625,
           "8": -0.9525095310029906,
           "9": 1.0408859729898774,
           "bdata": "kOrC7ggz8r8NGQXo+VfaP0/7V7d6h+G/Mv22+5nPwj+WJZ3hROWuP8P4mhNBHvq/zF70i75umj/LdDWiaEXcPxUomUT1eu6/5LTNDHin8D8G31OX/6bEv1TYPOzjqeG/nSxRaBh05j/48Uv+IkvdP876Y3GfOOE/EH4lg2QK7r/J0S/2bWPgP+XL4+MgfYs/kwOAlKA5xj/B9siixDzWvw==",
           "dtype": "f8",
           "shape": "20"
          },
          "bdata": "kOrC7ggz8r8NGQXo+VfaP0/7V7d6h+G/Mv22+5nPwj+WJZ3hROWuP8P4mhNBHvq/zF70i75umj/LdDWiaEXcPxUomUT1eu6/5LTNDHin8D8G31OX/6bEv1TYPOzjqeG/nSxRaBh05j/48Uv+IkvdP876Y3GfOOE/EH4lg2QK7r/J0S/2bWPgP+XL4+MgfYs/kwOAlKA5xj/B9siixDzWvw==",
          "dtype": "f8"
         },
         "z": {
          "_inputArray": {
           "0": -1.3221475225908594,
           "1": -0.07132392476214137,
           "10": 1.192404330680825,
           "11": -0.12109754794565243,
           "12": -1.0510815639071178,
           "13": 0.7288758428914587,
           "14": 0.8121186697722536,
           "15": -0.20184052243138237,
           "16": 0.1315384666668556,
           "17": 0.9359448937456367,
           "18": -1.223254774207143,
           "19": 0.6701401628971514,
           "2": -0.6794182716515045,
           "3": 0.6061954904535464,
           "4": -1.0434500017467254,
           "5": 0.6191140727503102,
           "6": -0.7776194131918178,
           "7": 1.1288768534468012,
           "8": -0.13626675631863647,
           "9": -0.09403473465553544,
           "bdata": "Gz4gKYQn9b9TmEbkSEKyv6yJIWPLveW/lWHPFfRl4z+YNgih+LHwvx6X3lDIz+M/HZiMG0Li6L8QP+ws4Q/yP2vU9WYwccG/jpcIDqkSuL9pID6QFhTzPxFoDbg/AL+/vo3m5jrR8L8jBoJu81LnP0CS5Erg/Ok//9dsBenVyb9KBECiQNbAP9Dcr7RC8+0/JVQemXOS87/dI2zIyXHlPw==",
           "dtype": "f8",
           "shape": "20"
          },
          "bdata": "Gz4gKYQn9b9TmEbkSEKyv6yJIWPLveW/lWHPFfRl4z+YNgih+LHwvx6X3lDIz+M/HZiMG0Li6L8QP+ws4Q/yP2vU9WYwccG/jpcIDqkSuL9pID6QFhTzPxFoDbg/AL+/vo3m5jrR8L8jBoJu81LnP0CS5Erg/Ok//9dsBenVyb9KBECiQNbAP9Dcr7RC8+0/JVQemXOS87/dI2zIyXHlPw==",
          "dtype": "f8"
         }
        },
        {
         "hovertemplate": "color=0<br>feature1=%{x}<br>feature2=%{y}<br>feature3=%{z}<extra></extra>",
         "legendgroup": "0",
         "marker": {
          "color": "#EF553B",
          "line": {
           "color": "DarkSlateGrey",
           "width": 2
          },
          "size": 12,
          "symbol": "circle"
         },
         "mode": "markers",
         "name": "0",
         "scene": "scene",
         "showlegend": true,
         "type": "scatter3d",
         "x": {
          "_inputArray": {
           "0": 0.17706132172337474,
           "1": 1.4251400838063584,
           "10": 0.7318578608644015,
           "11": -1.0278608158717826,
           "12": -0.7643136425986499,
           "13": 2.0110588281146295,
           "14": 0.8989070866188994,
           "15": 1.0102293014527666,
           "16": 1.2507365519778904,
           "17": 0.2046367811112989,
           "18": 0.748854969154346,
           "19": 1.2338979906194056,
           "2": 2.2244306714266617,
           "3": -0.7232530617473043,
           "4": 2.8233782346552134,
           "5": -1.3898657754386314,
           "6": 0.384865020097948,
           "7": 1.6768601170532067,
           "8": 1.4378924797989945,
           "9": 0.2907460978401567,
           "bdata": "cB4YBfKpxj8RrEKwX832P4T5z06iywFAJPjdmuMk57+qqPBTR5YGQOpqNeXjPPa/BHys5KCh2D80XStGa9T6P5ZqfoubAfc/DnBqhZWb0j++dTctYWvnP54l0C4ecvC/dCFb4kF16L/krMgCphYAQEt3ZcvYw+w/fDUzM+Yp8D9ugqpUBAP0PzxDN72JMco/UuE+sp725z+n98TRC77zPw==",
           "dtype": "f8",
           "shape": "20"
          },
          "bdata": "cB4YBfKpxj8RrEKwX832P4T5z06iywFAJPjdmuMk57+qqPBTR5YGQOpqNeXjPPa/BHys5KCh2D80XStGa9T6P5ZqfoubAfc/DnBqhZWb0j++dTctYWvnP54l0C4ecvC/dCFb4kF16L/krMgCphYAQEt3ZcvYw+w/fDUzM+Yp8D9ugqpUBAP0PzxDN72JMco/UuE+sp725z+n98TRC77zPw==",
          "dtype": "f8"
         },
         "y": {
          "_inputArray": {
           "0": -0.5981091105055654,
           "1": 1.4411515070733996,
           "10": 0.5174405213469511,
           "11": 1.1314163050665054,
           "12": 1.5665039251630606,
           "13": 1.920995835754021,
           "14": 0.43596037244890706,
           "15": 1.4378296804363488,
           "16": 0.186383752529512,
           "17": -0.011535196733127862,
           "18": 2.5931106271669737,
           "19": 0.05277755327574496,
           "2": 0.23040095103627523,
           "3": 1.4612592026030409,
           "4": -0.3328634933589074,
           "5": 0.666726013990038,
           "6": 1.3235456388910538,
           "7": 4.18750268656634,
           "8": 1.0997232778942088,
           "9": 0.866975408938099,
           "bdata": "JvSht7Uj47+/Yffh9A73P0iE1ULHfc0/q4tiVFFh9z+EkICuok3Vv05ZL8vRVeU/284cMT4t9T+420q0AMAQQOtJk293mPE/XGl6NkO+6z9Y7pls347gP7G/xvtHGvI/exh6a2YQ+T8kDSUhZrz+P0JIgVXG5ts/dBPrsVkB9z+IXM88bNvHPwAQxuXDn4e/1LzUyLC+BEBwf5DSqAWrPw==",
           "dtype": "f8",
           "shape": "20"
          },
          "bdata": "JvSht7Uj47+/Yffh9A73P0iE1ULHfc0/q4tiVFFh9z+EkICuok3Vv05ZL8vRVeU/284cMT4t9T+420q0AMAQQOtJk293mPE/XGl6NkO+6z9Y7pls347gP7G/xvtHGvI/exh6a2YQ+T8kDSUhZrz+P0JIgVXG5ts/dBPrsVkB9z+IXM88bNvHPwAQxuXDn4e/1LzUyLC+BEBwf5DSqAWrPw==",
          "dtype": "f8"
         },
         "z": {
          "_inputArray": {
           "0": 1.2265117397883383,
           "1": 0.1825606731342252,
           "10": 2.24461048024104,
           "11": 2.6032341109823642,
           "12": 1.5487880741551483,
           "13": 2.9330898341447647,
           "14": 0.8209644048616087,
           "15": 2.3277876229781747,
           "16": 1.7036236301227703,
           "17": 3.150779945582542,
           "18": 1.1708177071000119,
           "19": -0.26157620770596424,
           "2": 1.192119679126636,
           "3": -0.08536677887702493,
           "4": 2.637391221142465,
           "5": 1.3435167629532274,
           "6": -0.10319346470680757,
           "7": -0.08056475466158819,
           "8": 1.0654060685240712,
           "9": 0.9826430605096849,
           "bdata": "y9Aoxsqf8z/c2FLsJV7HP0lFrBXsEvM/UBJx45jatb/fg4yRYBkFQLow6G4Lf/U/kKATDONqur9AVntK5J+0v0hV1DvnC/E/afkQ3M9x7z8pJ+dW9vQBQNIB1Gds0wRAIubuANbH+D/8DY/N93YHQFzxwSRXReo/eMwFHk+fAkAgHwHaCkL7P4BbuR3MNAlA+CcZWau78j+AkGAiqr3Qvw==",
           "dtype": "f8",
           "shape": "20"
          },
          "bdata": "y9Aoxsqf8z/c2FLsJV7HP0lFrBXsEvM/UBJx45jatb/fg4yRYBkFQLow6G4Lf/U/kKATDONqur9AVntK5J+0v0hV1DvnC/E/afkQ3M9x7z8pJ+dW9vQBQNIB1Gds0wRAIubuANbH+D/8DY/N93YHQFzxwSRXReo/eMwFHk+fAkAgHwHaCkL7P4BbuR3MNAlA+CcZWau78j+AkGAiqr3Qvw==",
          "dtype": "f8"
         }
        }
       ],
       "layout": {
        "autosize": true,
        "dragmode": "zoom",
        "legend": {
         "title": {
          "text": "color"
         },
         "tracegroupgap": 0
        },
        "margin": {
         "t": 60
        },
        "scene": {
         "aspectmode": "auto",
         "aspectratio": {
          "x": 1.0295039639186307,
          "y": 1.1242099120764437,
          "z": 0.8640215344441289
         },
         "camera": {
          "center": {
           "x": -0.10827113234938657,
           "y": -0.16573457002979647,
           "z": 0.09778998497715595
          },
          "eye": {
           "x": 0.6627997166421387,
           "y": -0.21007392417618526,
           "z": 0.07135675436507301
          },
          "projection": {
           "type": "perspective"
          },
          "up": {
           "x": 0.06627490176265455,
           "y": 0.7864147981949858,
           "z": 0.6141330495717441
          }
         },
         "domain": {
          "x": [
           0,
           1
          ],
          "y": [
           0,
           1
          ]
         },
         "dragmode": "orbit",
         "xaxis": {
          "title": {
           "text": "feature1"
          },
          "type": "linear"
         },
         "yaxis": {
          "title": {
           "text": "feature2"
          },
          "type": "linear"
         },
         "zaxis": {
          "title": {
           "text": "feature3"
          },
          "type": "linear"
         }
        },
        "template": {
         "data": {
          "bar": [
           {
            "error_x": {
             "color": "#2a3f5f"
            },
            "error_y": {
             "color": "#2a3f5f"
            },
            "marker": {
             "line": {
              "color": "#E5ECF6",
              "width": 0.5
             },
             "pattern": {
              "fillmode": "overlay",
              "size": 10,
              "solidity": 0.2
             }
            },
            "type": "bar"
           }
          ],
          "barpolar": [
           {
            "marker": {
             "line": {
              "color": "#E5ECF6",
              "width": 0.5
             },
             "pattern": {
              "fillmode": "overlay",
              "size": 10,
              "solidity": 0.2
             }
            },
            "type": "barpolar"
           }
          ],
          "carpet": [
           {
            "aaxis": {
             "endlinecolor": "#2a3f5f",
             "gridcolor": "white",
             "linecolor": "white",
             "minorgridcolor": "white",
             "startlinecolor": "#2a3f5f"
            },
            "baxis": {
             "endlinecolor": "#2a3f5f",
             "gridcolor": "white",
             "linecolor": "white",
             "minorgridcolor": "white",
             "startlinecolor": "#2a3f5f"
            },
            "type": "carpet"
           }
          ],
          "choropleth": [
           {
            "colorbar": {
             "outlinewidth": 0,
             "ticks": ""
            },
            "type": "choropleth"
           }
          ],
          "contour": [
           {
            "colorbar": {
             "outlinewidth": 0,
             "ticks": ""
            },
            "colorscale": [
             [
              0,
              "#0d0887"
             ],
             [
              0.1111111111111111,
              "#46039f"
             ],
             [
              0.2222222222222222,
              "#7201a8"
             ],
             [
              0.3333333333333333,
              "#9c179e"
             ],
             [
              0.4444444444444444,
              "#bd3786"
             ],
             [
              0.5555555555555556,
              "#d8576b"
             ],
             [
              0.6666666666666666,
              "#ed7953"
             ],
             [
              0.7777777777777778,
              "#fb9f3a"
             ],
             [
              0.8888888888888888,
              "#fdca26"
             ],
             [
              1,
              "#f0f921"
             ]
            ],
            "type": "contour"
           }
          ],
          "contourcarpet": [
           {
            "colorbar": {
             "outlinewidth": 0,
             "ticks": ""
            },
            "type": "contourcarpet"
           }
          ],
          "heatmap": [
           {
            "colorbar": {
             "outlinewidth": 0,
             "ticks": ""
            },
            "colorscale": [
             [
              0,
              "#0d0887"
             ],
             [
              0.1111111111111111,
              "#46039f"
             ],
             [
              0.2222222222222222,
              "#7201a8"
             ],
             [
              0.3333333333333333,
              "#9c179e"
             ],
             [
              0.4444444444444444,
              "#bd3786"
             ],
             [
              0.5555555555555556,
              "#d8576b"
             ],
             [
              0.6666666666666666,
              "#ed7953"
             ],
             [
              0.7777777777777778,
              "#fb9f3a"
             ],
             [
              0.8888888888888888,
              "#fdca26"
             ],
             [
              1,
              "#f0f921"
             ]
            ],
            "type": "heatmap"
           }
          ],
          "histogram": [
           {
            "marker": {
             "pattern": {
              "fillmode": "overlay",
              "size": 10,
              "solidity": 0.2
             }
            },
            "type": "histogram"
           }
          ],
          "histogram2d": [
           {
            "colorbar": {
             "outlinewidth": 0,
             "ticks": ""
            },
            "colorscale": [
             [
              0,
              "#0d0887"
             ],
             [
              0.1111111111111111,
              "#46039f"
             ],
             [
              0.2222222222222222,
              "#7201a8"
             ],
             [
              0.3333333333333333,
              "#9c179e"
             ],
             [
              0.4444444444444444,
              "#bd3786"
             ],
             [
              0.5555555555555556,
              "#d8576b"
             ],
             [
              0.6666666666666666,
              "#ed7953"
             ],
             [
              0.7777777777777778,
              "#fb9f3a"
             ],
             [
              0.8888888888888888,
              "#fdca26"
             ],
             [
              1,
              "#f0f921"
             ]
            ],
            "type": "histogram2d"
           }
          ],
          "histogram2dcontour": [
           {
            "colorbar": {
             "outlinewidth": 0,
             "ticks": ""
            },
            "colorscale": [
             [
              0,
              "#0d0887"
             ],
             [
              0.1111111111111111,
              "#46039f"
             ],
             [
              0.2222222222222222,
              "#7201a8"
             ],
             [
              0.3333333333333333,
              "#9c179e"
             ],
             [
              0.4444444444444444,
              "#bd3786"
             ],
             [
              0.5555555555555556,
              "#d8576b"
             ],
             [
              0.6666666666666666,
              "#ed7953"
             ],
             [
              0.7777777777777778,
              "#fb9f3a"
             ],
             [
              0.8888888888888888,
              "#fdca26"
             ],
             [
              1,
              "#f0f921"
             ]
            ],
            "type": "histogram2dcontour"
           }
          ],
          "mesh3d": [
           {
            "colorbar": {
             "outlinewidth": 0,
             "ticks": ""
            },
            "type": "mesh3d"
           }
          ],
          "parcoords": [
           {
            "line": {
             "colorbar": {
              "outlinewidth": 0,
              "ticks": ""
             }
            },
            "type": "parcoords"
           }
          ],
          "pie": [
           {
            "automargin": true,
            "type": "pie"
           }
          ],
          "scatter": [
           {
            "fillpattern": {
             "fillmode": "overlay",
             "size": 10,
             "solidity": 0.2
            },
            "type": "scatter"
           }
          ],
          "scatter3d": [
           {
            "line": {
             "colorbar": {
              "outlinewidth": 0,
              "ticks": ""
             }
            },
            "marker": {
             "colorbar": {
              "outlinewidth": 0,
              "ticks": ""
             }
            },
            "type": "scatter3d"
           }
          ],
          "scattercarpet": [
           {
            "marker": {
             "colorbar": {
              "outlinewidth": 0,
              "ticks": ""
             }
            },
            "type": "scattercarpet"
           }
          ],
          "scattergeo": [
           {
            "marker": {
             "colorbar": {
              "outlinewidth": 0,
              "ticks": ""
             }
            },
            "type": "scattergeo"
           }
          ],
          "scattergl": [
           {
            "marker": {
             "colorbar": {
              "outlinewidth": 0,
              "ticks": ""
             }
            },
            "type": "scattergl"
           }
          ],
          "scattermap": [
           {
            "marker": {
             "colorbar": {
              "outlinewidth": 0,
              "ticks": ""
             }
            },
            "type": "scattermap"
           }
          ],
          "scattermapbox": [
           {
            "marker": {
             "colorbar": {
              "outlinewidth": 0,
              "ticks": ""
             }
            },
            "type": "scattermapbox"
           }
          ],
          "scatterpolar": [
           {
            "marker": {
             "colorbar": {
              "outlinewidth": 0,
              "ticks": ""
             }
            },
            "type": "scatterpolar"
           }
          ],
          "scatterpolargl": [
           {
            "marker": {
             "colorbar": {
              "outlinewidth": 0,
              "ticks": ""
             }
            },
            "type": "scatterpolargl"
           }
          ],
          "scatterternary": [
           {
            "marker": {
             "colorbar": {
              "outlinewidth": 0,
              "ticks": ""
             }
            },
            "type": "scatterternary"
           }
          ],
          "surface": [
           {
            "colorbar": {
             "outlinewidth": 0,
             "ticks": ""
            },
            "colorscale": [
             [
              0,
              "#0d0887"
             ],
             [
              0.1111111111111111,
              "#46039f"
             ],
             [
              0.2222222222222222,
              "#7201a8"
             ],
             [
              0.3333333333333333,
              "#9c179e"
             ],
             [
              0.4444444444444444,
              "#bd3786"
             ],
             [
              0.5555555555555556,
              "#d8576b"
             ],
             [
              0.6666666666666666,
              "#ed7953"
             ],
             [
              0.7777777777777778,
              "#fb9f3a"
             ],
             [
              0.8888888888888888,
              "#fdca26"
             ],
             [
              1,
              "#f0f921"
             ]
            ],
            "type": "surface"
           }
          ],
          "table": [
           {
            "cells": {
             "fill": {
              "color": "#EBF0F8"
             },
             "line": {
              "color": "white"
             }
            },
            "header": {
             "fill": {
              "color": "#C8D4E3"
             },
             "line": {
              "color": "white"
             }
            },
            "type": "table"
           }
          ]
         },
         "layout": {
          "annotationdefaults": {
           "arrowcolor": "#2a3f5f",
           "arrowhead": 0,
           "arrowwidth": 1
          },
          "autotypenumbers": "strict",
          "coloraxis": {
           "colorbar": {
            "outlinewidth": 0,
            "ticks": ""
           }
          },
          "colorscale": {
           "diverging": [
            [
             0,
             "#8e0152"
            ],
            [
             0.1,
             "#c51b7d"
            ],
            [
             0.2,
             "#de77ae"
            ],
            [
             0.3,
             "#f1b6da"
            ],
            [
             0.4,
             "#fde0ef"
            ],
            [
             0.5,
             "#f7f7f7"
            ],
            [
             0.6,
             "#e6f5d0"
            ],
            [
             0.7,
             "#b8e186"
            ],
            [
             0.8,
             "#7fbc41"
            ],
            [
             0.9,
             "#4d9221"
            ],
            [
             1,
             "#276419"
            ]
           ],
           "sequential": [
            [
             0,
             "#0d0887"
            ],
            [
             0.1111111111111111,
             "#46039f"
            ],
            [
             0.2222222222222222,
             "#7201a8"
            ],
            [
             0.3333333333333333,
             "#9c179e"
            ],
            [
             0.4444444444444444,
             "#bd3786"
            ],
            [
             0.5555555555555556,
             "#d8576b"
            ],
            [
             0.6666666666666666,
             "#ed7953"
            ],
            [
             0.7777777777777778,
             "#fb9f3a"
            ],
            [
             0.8888888888888888,
             "#fdca26"
            ],
            [
             1,
             "#f0f921"
            ]
           ],
           "sequentialminus": [
            [
             0,
             "#0d0887"
            ],
            [
             0.1111111111111111,
             "#46039f"
            ],
            [
             0.2222222222222222,
             "#7201a8"
            ],
            [
             0.3333333333333333,
             "#9c179e"
            ],
            [
             0.4444444444444444,
             "#bd3786"
            ],
            [
             0.5555555555555556,
             "#d8576b"
            ],
            [
             0.6666666666666666,
             "#ed7953"
            ],
            [
             0.7777777777777778,
             "#fb9f3a"
            ],
            [
             0.8888888888888888,
             "#fdca26"
            ],
            [
             1,
             "#f0f921"
            ]
           ]
          },
          "colorway": [
           "#636efa",
           "#EF553B",
           "#00cc96",
           "#ab63fa",
           "#FFA15A",
           "#19d3f3",
           "#FF6692",
           "#B6E880",
           "#FF97FF",
           "#FECB52"
          ],
          "font": {
           "color": "#2a3f5f"
          },
          "geo": {
           "bgcolor": "white",
           "lakecolor": "white",
           "landcolor": "#E5ECF6",
           "showlakes": true,
           "showland": true,
           "subunitcolor": "white"
          },
          "hoverlabel": {
           "align": "left"
          },
          "hovermode": "closest",
          "mapbox": {
           "style": "light"
          },
          "paper_bgcolor": "white",
          "plot_bgcolor": "#E5ECF6",
          "polar": {
           "angularaxis": {
            "gridcolor": "white",
            "linecolor": "white",
            "ticks": ""
           },
           "bgcolor": "#E5ECF6",
           "radialaxis": {
            "gridcolor": "white",
            "linecolor": "white",
            "ticks": ""
           }
          },
          "scene": {
           "xaxis": {
            "backgroundcolor": "#E5ECF6",
            "gridcolor": "white",
            "gridwidth": 2,
            "linecolor": "white",
            "showbackground": true,
            "ticks": "",
            "zerolinecolor": "white"
           },
           "yaxis": {
            "backgroundcolor": "#E5ECF6",
            "gridcolor": "white",
            "gridwidth": 2,
            "linecolor": "white",
            "showbackground": true,
            "ticks": "",
            "zerolinecolor": "white"
           },
           "zaxis": {
            "backgroundcolor": "#E5ECF6",
            "gridcolor": "white",
            "gridwidth": 2,
            "linecolor": "white",
            "showbackground": true,
            "ticks": "",
            "zerolinecolor": "white"
           }
          },
          "shapedefaults": {
           "line": {
            "color": "#2a3f5f"
           }
          },
          "ternary": {
           "aaxis": {
            "gridcolor": "white",
            "linecolor": "white",
            "ticks": ""
           },
           "baxis": {
            "gridcolor": "white",
            "linecolor": "white",
            "ticks": ""
           },
           "bgcolor": "#E5ECF6",
           "caxis": {
            "gridcolor": "white",
            "linecolor": "white",
            "ticks": ""
           }
          },
          "title": {
           "x": 0.05
          },
          "xaxis": {
           "automargin": true,
           "gridcolor": "white",
           "linecolor": "white",
           "ticks": "",
           "title": {
            "standoff": 15
           },
           "zerolinecolor": "white",
           "zerolinewidth": 2
          },
          "yaxis": {
           "automargin": true,
           "gridcolor": "white",
           "linecolor": "white",
           "ticks": "",
           "title": {
            "standoff": 15
           },
           "zerolinecolor": "white",
           "zerolinewidth": 2
          }
         }
        }
       }
      },
      "image/png": "[encoded data removed]"
     },
     "metadata": {},
     "output_type": "display_data"
    }
   ],
   "source": [
    "import plotly.express as px\n",
    "#y_train_trf = y_train.astype(str)\n",
    "fig = px.scatter_3d(df, x=df['feature1'], y=df['feature2'], z=df['feature3'],\n",
    "              color=df['target'].astype('str'))\n",
    "fig.update_traces(marker=dict(size=12,\n",
    "                              line=dict(width=2,\n",
    "                                        color='DarkSlateGrey')),\n",
    "                  selector=dict(mode='markers'))\n",
    "\n",
    "fig.show()"
   ]
  },
  {
   "cell_type": "code",
   "execution_count": 30,
   "id": "2e992f94-a698-4019-a7b6-2b5eae3744f8",
   "metadata": {},
   "outputs": [],
   "source": [
    "# Step 1 - Apply standard scaling\n",
    "from sklearn.preprocessing import StandardScaler\n",
    "scaler = StandardScaler()\n",
    "\n",
    "df.iloc[:,0:3] = scaler.fit_transform(df.iloc[:,0:3])"
   ]
  },
  {
   "cell_type": "code",
   "execution_count": 32,
   "id": "57b24057-8b5c-44ad-a99a-bb132cf4dfeb",
   "metadata": {},
   "outputs": [
    {
     "data": {
      "text/html": [
       "<div>\n",
       "<style scoped>\n",
       "    .dataframe tbody tr th:only-of-type {\n",
       "        vertical-align: middle;\n",
       "    }\n",
       "\n",
       "    .dataframe tbody tr th {\n",
       "        vertical-align: top;\n",
       "    }\n",
       "\n",
       "    .dataframe thead th {\n",
       "        text-align: right;\n",
       "    }\n",
       "</style>\n",
       "<table border=\"1\" class=\"dataframe\">\n",
       "  <thead>\n",
       "    <tr style=\"text-align: right;\">\n",
       "      <th></th>\n",
       "      <th>feature1</th>\n",
       "      <th>feature2</th>\n",
       "      <th>feature3</th>\n",
       "      <th>target</th>\n",
       "    </tr>\n",
       "  </thead>\n",
       "  <tbody>\n",
       "    <tr>\n",
       "      <th>count</th>\n",
       "      <td>40.000000</td>\n",
       "      <td>4.000000e+01</td>\n",
       "      <td>4.000000e+01</td>\n",
       "      <td>40.00000</td>\n",
       "    </tr>\n",
       "    <tr>\n",
       "      <th>mean</th>\n",
       "      <td>0.000000</td>\n",
       "      <td>-3.885781e-17</td>\n",
       "      <td>1.110223e-17</td>\n",
       "      <td>0.50000</td>\n",
       "    </tr>\n",
       "    <tr>\n",
       "      <th>std</th>\n",
       "      <td>1.012739</td>\n",
       "      <td>1.012739e+00</td>\n",
       "      <td>1.012739e+00</td>\n",
       "      <td>0.50637</td>\n",
       "    </tr>\n",
       "    <tr>\n",
       "      <th>min</th>\n",
       "      <td>-2.571350</td>\n",
       "      <td>-1.998011e+00</td>\n",
       "      <td>-1.749156e+00</td>\n",
       "      <td>0.00000</td>\n",
       "    </tr>\n",
       "    <tr>\n",
       "      <th>25%</th>\n",
       "      <td>-0.677239</td>\n",
       "      <td>-4.866010e-01</td>\n",
       "      <td>-6.815652e-01</td>\n",
       "      <td>0.00000</td>\n",
       "    </tr>\n",
       "    <tr>\n",
       "      <th>50%</th>\n",
       "      <td>-0.027094</td>\n",
       "      <td>-3.531748e-02</td>\n",
       "      <td>2.798692e-02</td>\n",
       "      <td>0.50000</td>\n",
       "    </tr>\n",
       "    <tr>\n",
       "      <th>75%</th>\n",
       "      <td>0.718191</td>\n",
       "      <td>5.677633e-01</td>\n",
       "      <td>4.687647e-01</td>\n",
       "      <td>1.00000</td>\n",
       "    </tr>\n",
       "    <tr>\n",
       "      <th>max</th>\n",
       "      <td>2.090049</td>\n",
       "      <td>3.557281e+00</td>\n",
       "      <td>2.182786e+00</td>\n",
       "      <td>1.00000</td>\n",
       "    </tr>\n",
       "  </tbody>\n",
       "</table>\n",
       "</div>"
      ],
      "text/plain": [
       "        feature1      feature2      feature3    target\n",
       "count  40.000000  4.000000e+01  4.000000e+01  40.00000\n",
       "mean    0.000000 -3.885781e-17  1.110223e-17   0.50000\n",
       "std     1.012739  1.012739e+00  1.012739e+00   0.50637\n",
       "min    -2.571350 -1.998011e+00 -1.749156e+00   0.00000\n",
       "25%    -0.677239 -4.866010e-01 -6.815652e-01   0.00000\n",
       "50%    -0.027094 -3.531748e-02  2.798692e-02   0.50000\n",
       "75%     0.718191  5.677633e-01  4.687647e-01   1.00000\n",
       "max     2.090049  3.557281e+00  2.182786e+00   1.00000"
      ]
     },
     "execution_count": 32,
     "metadata": {},
     "output_type": "execute_result"
    }
   ],
   "source": [
    "df.describe()"
   ]
  },
  {
   "cell_type": "code",
   "execution_count": 34,
   "id": "162e6898-0ee7-476b-93e6-0b8c438ab902",
   "metadata": {},
   "outputs": [
    {
     "name": "stdout",
     "output_type": "stream",
     "text": [
      "Covariance Matrix:\n",
      " [[1.02564103 0.20478114 0.080118  ]\n",
      " [0.20478114 1.02564103 0.19838882]\n",
      " [0.080118   0.19838882 1.02564103]]\n"
     ]
    }
   ],
   "source": [
    "# Step 2 - Find Covariance Matrix\n",
    "covariance_matrix = np.cov([df.iloc[:,0],df.iloc[:,1],df.iloc[:,2]])\n",
    "print('Covariance Matrix:\\n', covariance_matrix)"
   ]
  },
  {
   "cell_type": "code",
   "execution_count": 36,
   "id": "03bc906e-e618-4f65-94f1-d0762b7c8855",
   "metadata": {},
   "outputs": [],
   "source": [
    "# Step 3 - Finding EV and EVs\n",
    "eigen_values, eigen_vectors = np.linalg.eig(covariance_matrix)"
   ]
  },
  {
   "cell_type": "code",
   "execution_count": 38,
   "id": "f0169bb5-abf1-4340-bf69-e92fd7c5c6f6",
   "metadata": {},
   "outputs": [
    {
     "data": {
      "text/plain": [
       "array([1.3536065 , 0.94557084, 0.77774573])"
      ]
     },
     "execution_count": 38,
     "metadata": {},
     "output_type": "execute_result"
    }
   ],
   "source": [
    "eigen_values"
   ]
  },
  {
   "cell_type": "code",
   "execution_count": 40,
   "id": "5df08a5c-53a8-4c89-ada9-17a878fc367b",
   "metadata": {},
   "outputs": [
    {
     "data": {
      "text/plain": [
       "array([[-0.53875915, -0.69363291,  0.47813384],\n",
       "       [-0.65608325, -0.01057596, -0.75461442],\n",
       "       [-0.52848211,  0.72025103,  0.44938304]])"
      ]
     },
     "execution_count": 40,
     "metadata": {},
     "output_type": "execute_result"
    }
   ],
   "source": [
    "eigen_vectors"
   ]
  },
  {
   "cell_type": "code",
   "execution_count": 44,
   "id": "33a9efdc-4070-4906-8f44-dccf3c09b0b6",
   "metadata": {},
   "outputs": [],
   "source": [
    "# Step 4 - Selecting our 2 most important principal components\n",
    "pc = eigen_vectors[0:2]"
   ]
  },
  {
   "cell_type": "code",
   "execution_count": 58,
   "id": "d21b88f7-0b38-4d95-b3d1-270afffbf820",
   "metadata": {},
   "outputs": [],
   "source": [
    "# Step 5 - Taking the dot product of the principal components with the original data.\n",
    "\n",
    "transformed_df = np.dot(df.iloc[:,0:3], pc.T)\n",
    "# (40,3).(3,2)\n",
    "\n",
    "new_df = pd.DataFrame(transformed_df, columns=['PC1', 'PC2'])\n",
    "new_df['Target'] = df['target']"
   ]
  },
  {
   "cell_type": "code",
   "execution_count": 60,
   "id": "6c530e06-5576-46c0-a4b5-2b9eaba65976",
   "metadata": {},
   "outputs": [
    {
     "data": {
      "text/html": [
       "<div>\n",
       "<style scoped>\n",
       "    .dataframe tbody tr th:only-of-type {\n",
       "        vertical-align: middle;\n",
       "    }\n",
       "\n",
       "    .dataframe tbody tr th {\n",
       "        vertical-align: top;\n",
       "    }\n",
       "\n",
       "    .dataframe thead th {\n",
       "        text-align: right;\n",
       "    }\n",
       "</style>\n",
       "<table border=\"1\" class=\"dataframe\">\n",
       "  <thead>\n",
       "    <tr style=\"text-align: right;\">\n",
       "      <th></th>\n",
       "      <th>PC1</th>\n",
       "      <th>PC2</th>\n",
       "      <th>Target</th>\n",
       "    </tr>\n",
       "  </thead>\n",
       "  <tbody>\n",
       "    <tr>\n",
       "      <th>0</th>\n",
       "      <td>0.599433</td>\n",
       "      <td>1.795862</td>\n",
       "      <td>1</td>\n",
       "    </tr>\n",
       "    <tr>\n",
       "      <th>1</th>\n",
       "      <td>1.056919</td>\n",
       "      <td>-0.212737</td>\n",
       "      <td>1</td>\n",
       "    </tr>\n",
       "    <tr>\n",
       "      <th>2</th>\n",
       "      <td>-0.271876</td>\n",
       "      <td>0.498222</td>\n",
       "      <td>1</td>\n",
       "    </tr>\n",
       "    <tr>\n",
       "      <th>3</th>\n",
       "      <td>-0.621586</td>\n",
       "      <td>0.023110</td>\n",
       "      <td>1</td>\n",
       "    </tr>\n",
       "    <tr>\n",
       "      <th>4</th>\n",
       "      <td>1.567286</td>\n",
       "      <td>1.730967</td>\n",
       "      <td>1</td>\n",
       "    </tr>\n",
       "  </tbody>\n",
       "</table>\n",
       "</div>"
      ],
      "text/plain": [
       "        PC1       PC2  Target\n",
       "0  0.599433  1.795862       1\n",
       "1  1.056919 -0.212737       1\n",
       "2 -0.271876  0.498222       1\n",
       "3 -0.621586  0.023110       1\n",
       "4  1.567286  1.730967       1"
      ]
     },
     "execution_count": 60,
     "metadata": {},
     "output_type": "execute_result"
    }
   ],
   "source": [
    "new_df.head()"
   ]
  },
  {
   "cell_type": "code",
   "execution_count": 100,
   "id": "79b93ccc-e2af-4734-a5df-f6f1776a5c3d",
   "metadata": {},
   "outputs": [
    {
     "data": {
      "application/vnd.plotly.v1+json": {
       "config": {
        "plotlyServerURL": "https://plot.ly"
       },
       "data": [
        {
         "hovertemplate": "color=1<br>x=%{x}<br>y=%{y}<extra></extra>",
         "legendgroup": "1",
         "marker": {
          "color": "#3366CC",
          "line": {
           "color": "DarkSlateGrey",
           "width": 2
          },
          "size": 12,
          "symbol": "circle"
         },
         "mode": "markers",
         "name": "1",
         "orientation": "v",
         "showlegend": true,
         "type": "scatter",
         "x": {
          "_inputArray": {
           "0": 0.5994332065284587,
           "1": 1.0569191874044228,
           "10": 1.0070065633716447,
           "11": 1.7261140720978523,
           "12": -0.4293838105203529,
           "13": 0.886732950563707,
           "14": -0.8722049514401577,
           "15": -3.367715250324863,
           "16": 0.6886052136492182,
           "17": -0.478443825983099,
           "18": 1.3045493917460416,
           "19": -0.7290426676020048,
           "2": -0.27187554564807004,
           "3": -0.6215858490609529,
           "4": 1.5672855521429738,
           "5": -1.320156854637904,
           "6": -0.47083382499623166,
           "7": -0.4015416066708428,
           "8": -0.43373440389438656,
           "9": 0.22732642853669716,
           "bdata": "+KJFjI4u4z+WqwYYJOnwP9r/SLBoZtG/IvGrAQjk479zKN8DmhP5Pw8pRMtcH/W/2WYNMiQi3r+4nCiR27LZv64X+PFNwtu/uHEKTAgZzT/3nQjqshzwP+k1Dcopnvs/RHnnOwZ7279Xnd7HHWDsPygIu1sa6eu//xVzsRTxCsDATw/NDQnmP3yDZNrSnt6/GA7ZLm/f9D+ap9dJUVTnvw==",
           "dtype": "f8",
           "shape": "20"
          },
          "bdata": "+KJFjI4u4z+WqwYYJOnwP9r/SLBoZtG/IvGrAQjk479zKN8DmhP5Pw8pRMtcH/W/2WYNMiQi3r+4nCiR27LZv64X+PFNwtu/uHEKTAgZzT/3nQjqshzwP+k1Dcopnvs/RHnnOwZ7279Xnd7HHWDsPygIu1sa6eu//xVzsRTxCsDATw/NDQnmP3yDZNrSnt6/GA7ZLm/f9D+ap9dJUVTnvw==",
          "dtype": "f8"
         },
         "xaxis": "x",
         "y": {
          "_inputArray": {
           "0": 1.795862084617259,
           "1": -0.21273749889648622,
           "10": 0.596021871291171,
           "11": 0.49251143637568184,
           "12": 0.8292645826818946,
           "13": 0.5226637153938106,
           "14": 0.530675209339106,
           "15": -0.2546273647208581,
           "16": 0.6580837671542457,
           "17": 0.7743719366307407,
           "18": 0.47664493330991353,
           "19": -0.8465056874211637,
           "2": 0.49822202701592,
           "3": 0.023110348973592404,
           "4": 1.730966946831634,
           "5": -0.2570024916269372,
           "6": -1.3731205431753888,
           "7": 1.2030609391619356,
           "8": 1.1533262452440192,
           "9": -2.669841430443479,
           "bdata": "kuuY4dm7/D/VVTJ8+zrLv3qIC6Te4t8/OLQpRD2qlz/YlLFlCrL7Py7OIZS6ctC//nYmP0349b+cuszTvD/zP4oQjzgGdPI/thXq0tVbBcB/rpx1nBLjPzLuCLBOhd8/xTHL4FWJ6j85g41BqbngP+sZnZNK++A/0CIJk9BL0L9Clz6wBQ/lP2qd2Kenx+g/BrEXwFmB3j+9QmsYkxbrvw==",
           "dtype": "f8",
           "shape": "20"
          },
          "bdata": "kuuY4dm7/D/VVTJ8+zrLv3qIC6Te4t8/OLQpRD2qlz/YlLFlCrL7Py7OIZS6ctC//nYmP0349b+cuszTvD/zP4oQjzgGdPI/thXq0tVbBcB/rpx1nBLjPzLuCLBOhd8/xTHL4FWJ6j85g41BqbngP+sZnZNK++A/0CIJk9BL0L9Clz6wBQ/lP2qd2Kenx+g/BrEXwFmB3j+9QmsYkxbrvw==",
          "dtype": "f8"
         },
         "yaxis": "y"
        },
        {
         "hovertemplate": "color=0<br>x=%{x}<br>y=%{y}<extra></extra>",
         "legendgroup": "0",
         "marker": {
          "color": "#DC3912",
          "line": {
           "color": "DarkSlateGrey",
           "width": 2
          },
          "size": 12,
          "symbol": "circle"
         },
         "mode": "markers",
         "name": "0",
         "orientation": "v",
         "showlegend": true,
         "type": "scatter",
         "x": {
          "_inputArray": {
           "0": -0.0691783479003493,
           "1": 0.48480244155042435,
           "10": 0.23211323005448203,
           "11": 1.4643361420174277,
           "12": -1.3488233383912442,
           "13": -0.2787319613061641,
           "14": 1.6316766003641452,
           "15": -0.14455859784205977,
           "16": 0.623952940830136,
           "17": -0.997407614749346,
           "18": -0.49747561613958413,
           "19": -0.09455621693155603,
           "2": 1.0582212393568482,
           "3": 0.7417154030865882,
           "4": 0.2027753054698849,
           "5": -0.7578903803062311,
           "6": -0.13833106567998346,
           "7": -0.22079683822754775,
           "8": -1.1245203513046624,
           "9": -0.4347769492133569,
           "bdata": "esTSFay1sb+3uN7RAAffPyaG72R57vA/iEjm8CG85z8B/LaMivTJP9TIq1OjQOi/yeSOFdW0wb++rp8fEkPMv6mjSA0J/vG/7UN7smLT2788xgbm4rXNP/UMBbzrbfc/DI3nx8eU9b8BPIqUvtbRv0JmQ+xYG/o/bisLaeWAwr97eGMobPfjP2QnxF/D6u+/LCB496PW3794wVoT1jS4vw==",
           "dtype": "f8",
           "shape": "20"
          },
          "bdata": "esTSFay1sb+3uN7RAAffPyaG72R57vA/iEjm8CG85z8B/LaMivTJP9TIq1OjQOi/yeSOFdW0wb++rp8fEkPMv6mjSA0J/vG/7UN7smLT2788xgbm4rXNP/UMBbzrbfc/DI3nx8eU9b8BPIqUvtbRv0JmQ+xYG/o/bisLaeWAwr97eGMobPfjP2QnxF/D6u+/LCB496PW3794wVoT1jS4vw==",
          "dtype": "f8"
         },
         "xaxis": "x",
         "y": {
          "_inputArray": {
           "0": -0.13099354637679142,
           "1": -1.2177077082661178,
           "10": -1.1532498565930418,
           "11": -1.5109389134532467,
           "12": -0.5361186839276012,
           "13": -0.44758065050515233,
           "14": 1.8945265108876757,
           "15": 0.49489532639018635,
           "16": 0.08837119520732983,
           "17": 0.77893827213887,
           "18": 0.16136953312375008,
           "19": -0.7615656418799056,
           "2": -0.45202591278590604,
           "3": 1.0238220278331989,
           "4": 0.09181467512893313,
           "5": -2.4226153586681987,
           "6": -0.3683717942004071,
           "7": -1.4419110773535353,
           "8": 0.8422262766122511,
           "9": -0.6038357010489037,
           "bdata": "zXLWgmXEwL/9cPETu3vzv3sKFxj+7dy/5HznNJNh8D/mvPiiKoG3P0YjQimEYQPAigM3SmeT17+0k49ZERL3v/00PIWE8+o/WjGFP59S47/d8CIftnPyv0iROEjOLPi/o8vHXuIn4b+BfQ9QKaXcv06u2gf7T/4/jYBycl2s3z8A7FKhfp+2P+INjvQP7eg/fiyrwcGnxD/HNLTovl7ovw==",
           "dtype": "f8",
           "shape": "20"
          },
          "bdata": "zXLWgmXEwL/9cPETu3vzv3sKFxj+7dy/5HznNJNh8D/mvPiiKoG3P0YjQimEYQPAigM3SmeT17+0k49ZERL3v/00PIWE8+o/WjGFP59S47/d8CIftnPyv0iROEjOLPi/o8vHXuIn4b+BfQ9QKaXcv06u2gf7T/4/jYBycl2s3z8A7FKhfp+2P+INjvQP7eg/fiyrwcGnxD/HNLTovl7ovw==",
          "dtype": "f8"
         },
         "yaxis": "y"
        }
       ],
       "layout": {
        "autosize": true,
        "legend": {
         "title": {
          "text": "color"
         },
         "tracegroupgap": 0
        },
        "margin": {
         "t": 60
        },
        "template": {
         "data": {
          "bar": [
           {
            "error_x": {
             "color": "#2a3f5f"
            },
            "error_y": {
             "color": "#2a3f5f"
            },
            "marker": {
             "line": {
              "color": "#E5ECF6",
              "width": 0.5
             },
             "pattern": {
              "fillmode": "overlay",
              "size": 10,
              "solidity": 0.2
             }
            },
            "type": "bar"
           }
          ],
          "barpolar": [
           {
            "marker": {
             "line": {
              "color": "#E5ECF6",
              "width": 0.5
             },
             "pattern": {
              "fillmode": "overlay",
              "size": 10,
              "solidity": 0.2
             }
            },
            "type": "barpolar"
           }
          ],
          "carpet": [
           {
            "aaxis": {
             "endlinecolor": "#2a3f5f",
             "gridcolor": "white",
             "linecolor": "white",
             "minorgridcolor": "white",
             "startlinecolor": "#2a3f5f"
            },
            "baxis": {
             "endlinecolor": "#2a3f5f",
             "gridcolor": "white",
             "linecolor": "white",
             "minorgridcolor": "white",
             "startlinecolor": "#2a3f5f"
            },
            "type": "carpet"
           }
          ],
          "choropleth": [
           {
            "colorbar": {
             "outlinewidth": 0,
             "ticks": ""
            },
            "type": "choropleth"
           }
          ],
          "contour": [
           {
            "colorbar": {
             "outlinewidth": 0,
             "ticks": ""
            },
            "colorscale": [
             [
              0,
              "#0d0887"
             ],
             [
              0.1111111111111111,
              "#46039f"
             ],
             [
              0.2222222222222222,
              "#7201a8"
             ],
             [
              0.3333333333333333,
              "#9c179e"
             ],
             [
              0.4444444444444444,
              "#bd3786"
             ],
             [
              0.5555555555555556,
              "#d8576b"
             ],
             [
              0.6666666666666666,
              "#ed7953"
             ],
             [
              0.7777777777777778,
              "#fb9f3a"
             ],
             [
              0.8888888888888888,
              "#fdca26"
             ],
             [
              1,
              "#f0f921"
             ]
            ],
            "type": "contour"
           }
          ],
          "contourcarpet": [
           {
            "colorbar": {
             "outlinewidth": 0,
             "ticks": ""
            },
            "type": "contourcarpet"
           }
          ],
          "heatmap": [
           {
            "colorbar": {
             "outlinewidth": 0,
             "ticks": ""
            },
            "colorscale": [
             [
              0,
              "#0d0887"
             ],
             [
              0.1111111111111111,
              "#46039f"
             ],
             [
              0.2222222222222222,
              "#7201a8"
             ],
             [
              0.3333333333333333,
              "#9c179e"
             ],
             [
              0.4444444444444444,
              "#bd3786"
             ],
             [
              0.5555555555555556,
              "#d8576b"
             ],
             [
              0.6666666666666666,
              "#ed7953"
             ],
             [
              0.7777777777777778,
              "#fb9f3a"
             ],
             [
              0.8888888888888888,
              "#fdca26"
             ],
             [
              1,
              "#f0f921"
             ]
            ],
            "type": "heatmap"
           }
          ],
          "histogram": [
           {
            "marker": {
             "pattern": {
              "fillmode": "overlay",
              "size": 10,
              "solidity": 0.2
             }
            },
            "type": "histogram"
           }
          ],
          "histogram2d": [
           {
            "colorbar": {
             "outlinewidth": 0,
             "ticks": ""
            },
            "colorscale": [
             [
              0,
              "#0d0887"
             ],
             [
              0.1111111111111111,
              "#46039f"
             ],
             [
              0.2222222222222222,
              "#7201a8"
             ],
             [
              0.3333333333333333,
              "#9c179e"
             ],
             [
              0.4444444444444444,
              "#bd3786"
             ],
             [
              0.5555555555555556,
              "#d8576b"
             ],
             [
              0.6666666666666666,
              "#ed7953"
             ],
             [
              0.7777777777777778,
              "#fb9f3a"
             ],
             [
              0.8888888888888888,
              "#fdca26"
             ],
             [
              1,
              "#f0f921"
             ]
            ],
            "type": "histogram2d"
           }
          ],
          "histogram2dcontour": [
           {
            "colorbar": {
             "outlinewidth": 0,
             "ticks": ""
            },
            "colorscale": [
             [
              0,
              "#0d0887"
             ],
             [
              0.1111111111111111,
              "#46039f"
             ],
             [
              0.2222222222222222,
              "#7201a8"
             ],
             [
              0.3333333333333333,
              "#9c179e"
             ],
             [
              0.4444444444444444,
              "#bd3786"
             ],
             [
              0.5555555555555556,
              "#d8576b"
             ],
             [
              0.6666666666666666,
              "#ed7953"
             ],
             [
              0.7777777777777778,
              "#fb9f3a"
             ],
             [
              0.8888888888888888,
              "#fdca26"
             ],
             [
              1,
              "#f0f921"
             ]
            ],
            "type": "histogram2dcontour"
           }
          ],
          "mesh3d": [
           {
            "colorbar": {
             "outlinewidth": 0,
             "ticks": ""
            },
            "type": "mesh3d"
           }
          ],
          "parcoords": [
           {
            "line": {
             "colorbar": {
              "outlinewidth": 0,
              "ticks": ""
             }
            },
            "type": "parcoords"
           }
          ],
          "pie": [
           {
            "automargin": true,
            "type": "pie"
           }
          ],
          "scatter": [
           {
            "fillpattern": {
             "fillmode": "overlay",
             "size": 10,
             "solidity": 0.2
            },
            "type": "scatter"
           }
          ],
          "scatter3d": [
           {
            "line": {
             "colorbar": {
              "outlinewidth": 0,
              "ticks": ""
             }
            },
            "marker": {
             "colorbar": {
              "outlinewidth": 0,
              "ticks": ""
             }
            },
            "type": "scatter3d"
           }
          ],
          "scattercarpet": [
           {
            "marker": {
             "colorbar": {
              "outlinewidth": 0,
              "ticks": ""
             }
            },
            "type": "scattercarpet"
           }
          ],
          "scattergeo": [
           {
            "marker": {
             "colorbar": {
              "outlinewidth": 0,
              "ticks": ""
             }
            },
            "type": "scattergeo"
           }
          ],
          "scattergl": [
           {
            "marker": {
             "colorbar": {
              "outlinewidth": 0,
              "ticks": ""
             }
            },
            "type": "scattergl"
           }
          ],
          "scattermap": [
           {
            "marker": {
             "colorbar": {
              "outlinewidth": 0,
              "ticks": ""
             }
            },
            "type": "scattermap"
           }
          ],
          "scattermapbox": [
           {
            "marker": {
             "colorbar": {
              "outlinewidth": 0,
              "ticks": ""
             }
            },
            "type": "scattermapbox"
           }
          ],
          "scatterpolar": [
           {
            "marker": {
             "colorbar": {
              "outlinewidth": 0,
              "ticks": ""
             }
            },
            "type": "scatterpolar"
           }
          ],
          "scatterpolargl": [
           {
            "marker": {
             "colorbar": {
              "outlinewidth": 0,
              "ticks": ""
             }
            },
            "type": "scatterpolargl"
           }
          ],
          "scatterternary": [
           {
            "marker": {
             "colorbar": {
              "outlinewidth": 0,
              "ticks": ""
             }
            },
            "type": "scatterternary"
           }
          ],
          "surface": [
           {
            "colorbar": {
             "outlinewidth": 0,
             "ticks": ""
            },
            "colorscale": [
             [
              0,
              "#0d0887"
             ],
             [
              0.1111111111111111,
              "#46039f"
             ],
             [
              0.2222222222222222,
              "#7201a8"
             ],
             [
              0.3333333333333333,
              "#9c179e"
             ],
             [
              0.4444444444444444,
              "#bd3786"
             ],
             [
              0.5555555555555556,
              "#d8576b"
             ],
             [
              0.6666666666666666,
              "#ed7953"
             ],
             [
              0.7777777777777778,
              "#fb9f3a"
             ],
             [
              0.8888888888888888,
              "#fdca26"
             ],
             [
              1,
              "#f0f921"
             ]
            ],
            "type": "surface"
           }
          ],
          "table": [
           {
            "cells": {
             "fill": {
              "color": "#EBF0F8"
             },
             "line": {
              "color": "white"
             }
            },
            "header": {
             "fill": {
              "color": "#C8D4E3"
             },
             "line": {
              "color": "white"
             }
            },
            "type": "table"
           }
          ]
         },
         "layout": {
          "annotationdefaults": {
           "arrowcolor": "#2a3f5f",
           "arrowhead": 0,
           "arrowwidth": 1
          },
          "autotypenumbers": "strict",
          "coloraxis": {
           "colorbar": {
            "outlinewidth": 0,
            "ticks": ""
           }
          },
          "colorscale": {
           "diverging": [
            [
             0,
             "#8e0152"
            ],
            [
             0.1,
             "#c51b7d"
            ],
            [
             0.2,
             "#de77ae"
            ],
            [
             0.3,
             "#f1b6da"
            ],
            [
             0.4,
             "#fde0ef"
            ],
            [
             0.5,
             "#f7f7f7"
            ],
            [
             0.6,
             "#e6f5d0"
            ],
            [
             0.7,
             "#b8e186"
            ],
            [
             0.8,
             "#7fbc41"
            ],
            [
             0.9,
             "#4d9221"
            ],
            [
             1,
             "#276419"
            ]
           ],
           "sequential": [
            [
             0,
             "#0d0887"
            ],
            [
             0.1111111111111111,
             "#46039f"
            ],
            [
             0.2222222222222222,
             "#7201a8"
            ],
            [
             0.3333333333333333,
             "#9c179e"
            ],
            [
             0.4444444444444444,
             "#bd3786"
            ],
            [
             0.5555555555555556,
             "#d8576b"
            ],
            [
             0.6666666666666666,
             "#ed7953"
            ],
            [
             0.7777777777777778,
             "#fb9f3a"
            ],
            [
             0.8888888888888888,
             "#fdca26"
            ],
            [
             1,
             "#f0f921"
            ]
           ],
           "sequentialminus": [
            [
             0,
             "#0d0887"
            ],
            [
             0.1111111111111111,
             "#46039f"
            ],
            [
             0.2222222222222222,
             "#7201a8"
            ],
            [
             0.3333333333333333,
             "#9c179e"
            ],
            [
             0.4444444444444444,
             "#bd3786"
            ],
            [
             0.5555555555555556,
             "#d8576b"
            ],
            [
             0.6666666666666666,
             "#ed7953"
            ],
            [
             0.7777777777777778,
             "#fb9f3a"
            ],
            [
             0.8888888888888888,
             "#fdca26"
            ],
            [
             1,
             "#f0f921"
            ]
           ]
          },
          "colorway": [
           "#636efa",
           "#EF553B",
           "#00cc96",
           "#ab63fa",
           "#FFA15A",
           "#19d3f3",
           "#FF6692",
           "#B6E880",
           "#FF97FF",
           "#FECB52"
          ],
          "font": {
           "color": "#2a3f5f"
          },
          "geo": {
           "bgcolor": "white",
           "lakecolor": "white",
           "landcolor": "#E5ECF6",
           "showlakes": true,
           "showland": true,
           "subunitcolor": "white"
          },
          "hoverlabel": {
           "align": "left"
          },
          "hovermode": "closest",
          "mapbox": {
           "style": "light"
          },
          "paper_bgcolor": "white",
          "plot_bgcolor": "#E5ECF6",
          "polar": {
           "angularaxis": {
            "gridcolor": "white",
            "linecolor": "white",
            "ticks": ""
           },
           "bgcolor": "#E5ECF6",
           "radialaxis": {
            "gridcolor": "white",
            "linecolor": "white",
            "ticks": ""
           }
          },
          "scene": {
           "xaxis": {
            "backgroundcolor": "#E5ECF6",
            "gridcolor": "white",
            "gridwidth": 2,
            "linecolor": "white",
            "showbackground": true,
            "ticks": "",
            "zerolinecolor": "white"
           },
           "yaxis": {
            "backgroundcolor": "#E5ECF6",
            "gridcolor": "white",
            "gridwidth": 2,
            "linecolor": "white",
            "showbackground": true,
            "ticks": "",
            "zerolinecolor": "white"
           },
           "zaxis": {
            "backgroundcolor": "#E5ECF6",
            "gridcolor": "white",
            "gridwidth": 2,
            "linecolor": "white",
            "showbackground": true,
            "ticks": "",
            "zerolinecolor": "white"
           }
          },
          "shapedefaults": {
           "line": {
            "color": "#2a3f5f"
           }
          },
          "ternary": {
           "aaxis": {
            "gridcolor": "white",
            "linecolor": "white",
            "ticks": ""
           },
           "baxis": {
            "gridcolor": "white",
            "linecolor": "white",
            "ticks": ""
           },
           "bgcolor": "#E5ECF6",
           "caxis": {
            "gridcolor": "white",
            "linecolor": "white",
            "ticks": ""
           }
          },
          "title": {
           "x": 0.05
          },
          "xaxis": {
           "automargin": true,
           "gridcolor": "white",
           "linecolor": "white",
           "ticks": "",
           "title": {
            "standoff": 15
           },
           "zerolinecolor": "white",
           "zerolinewidth": 2
          },
          "yaxis": {
           "automargin": true,
           "gridcolor": "white",
           "linecolor": "white",
           "ticks": "",
           "title": {
            "standoff": 15
           },
           "zerolinecolor": "white",
           "zerolinewidth": 2
          }
         }
        },
        "xaxis": {
         "anchor": "y",
         "autorange": true,
         "domain": [
          0,
          1
         ],
         "range": [
          -3.7017870891600473,
          2.0601859109330363
         ],
         "title": {
          "text": "x"
         },
         "type": "linear"
        },
        "yaxis": {
         "anchor": "x",
         "autorange": true,
         "domain": [
          0,
          1
         ],
         "range": [
          -3.131266604840344,
          2.355951685284541
         ],
         "title": {
          "text": "y"
         },
         "type": "linear"
        }
       }
      },
      "image/png": "[encoded data removed]"
     },
     "metadata": {},
     "output_type": "display_data"
    }
   ],
   "source": [
    "new_df['target'] = new_df['target'].astype('str')\n",
    "fig = px.scatter(x=new_df['PC1'],\n",
    "                 y=new_df['PC2'],\n",
    "                 color=new_df['target'],\n",
    "                 color_discrete_sequence=px.colors.qualitative.G10\n",
    "                )\n",
    "\n",
    "fig.update_traces(marker=dict(size=12,\n",
    "                              line=dict(width=2,\n",
    "                                        color='DarkSlateGrey')),\n",
    "                 selector=dict(mode='markers'))\n",
    "fig.show()"
   ]
  },
  {
   "cell_type": "code",
   "execution_count": null,
   "id": "df3c8a6b-fe30-42e6-82fa-6c04d26e2a78",
   "metadata": {},
   "outputs": [],
   "source": []
  }
 ],
 "metadata": {
  "kernelspec": {
   "display_name": "Python [conda env:base]",
   "language": "python",
   "name": "conda-base-py"
  },
  "language_info": {
   "codemirror_mode": {
    "name": "ipython",
    "version": 3
   },
   "file_extension": ".py",
   "mimetype": "text/x-python",
   "name": "python",
   "nbconvert_exporter": "python",
   "pygments_lexer": "ipython3",
   "version": "3.12.8"
  }
 },
 "nbformat": 4,
 "nbformat_minor": 5
}
