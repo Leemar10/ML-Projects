{
 "cells": [
  {
   "cell_type": "code",
   "execution_count": 1,
   "id": "d08e2ff2-a876-4d1c-aecb-a8b575104a57",
   "metadata": {},
   "outputs": [],
   "source": [
    "import pandas as pd\n",
    "import numpy as np"
   ]
  },
  {
   "cell_type": "code",
   "execution_count": 88,
   "id": "89e8791e-2b51-41bf-8a28-5ef86e25f115",
   "metadata": {},
   "outputs": [],
   "source": [
    "import matplotlib.pyplot as plt\n",
    "import seaborn as sns\n",
    "\n",
    "from sklearn.model_selection import train_test_split\n",
    "\n",
    "from sklearn.tree import DecisionTreeClassifier\n",
    "\n",
    "from sklearn.metrics import accuracy_score\n",
    "from sklearn.model_selection import cross_val_score\n",
    "\n",
    "from sklearn.preprocessing import KBinsDiscretizer\n",
    "from sklearn.compose import ColumnTransformer"
   ]
  },
  {
   "cell_type": "code",
   "execution_count": 16,
   "id": "79160233-b6f8-4ff8-b004-db8d331eaca8",
   "metadata": {},
   "outputs": [],
   "source": [
    "df = pd.read_csv('train.csv', usecols=['Age', 'Fare', 'Survived'])"
   ]
  },
  {
   "cell_type": "code",
   "execution_count": 18,
   "id": "9e3fe767-db05-4958-9f58-1d9857bff97c",
   "metadata": {},
   "outputs": [
    {
     "data": {
      "text/html": [
       "<div>\n",
       "<style scoped>\n",
       "    .dataframe tbody tr th:only-of-type {\n",
       "        vertical-align: middle;\n",
       "    }\n",
       "\n",
       "    .dataframe tbody tr th {\n",
       "        vertical-align: top;\n",
       "    }\n",
       "\n",
       "    .dataframe thead th {\n",
       "        text-align: right;\n",
       "    }\n",
       "</style>\n",
       "<table border=\"1\" class=\"dataframe\">\n",
       "  <thead>\n",
       "    <tr style=\"text-align: right;\">\n",
       "      <th></th>\n",
       "      <th>Survived</th>\n",
       "      <th>Age</th>\n",
       "      <th>Fare</th>\n",
       "    </tr>\n",
       "  </thead>\n",
       "  <tbody>\n",
       "    <tr>\n",
       "      <th>0</th>\n",
       "      <td>0</td>\n",
       "      <td>22.0</td>\n",
       "      <td>7.2500</td>\n",
       "    </tr>\n",
       "    <tr>\n",
       "      <th>1</th>\n",
       "      <td>1</td>\n",
       "      <td>38.0</td>\n",
       "      <td>71.2833</td>\n",
       "    </tr>\n",
       "    <tr>\n",
       "      <th>2</th>\n",
       "      <td>1</td>\n",
       "      <td>26.0</td>\n",
       "      <td>7.9250</td>\n",
       "    </tr>\n",
       "    <tr>\n",
       "      <th>3</th>\n",
       "      <td>1</td>\n",
       "      <td>35.0</td>\n",
       "      <td>53.1000</td>\n",
       "    </tr>\n",
       "    <tr>\n",
       "      <th>4</th>\n",
       "      <td>0</td>\n",
       "      <td>35.0</td>\n",
       "      <td>8.0500</td>\n",
       "    </tr>\n",
       "  </tbody>\n",
       "</table>\n",
       "</div>"
      ],
      "text/plain": [
       "   Survived   Age     Fare\n",
       "0         0  22.0   7.2500\n",
       "1         1  38.0  71.2833\n",
       "2         1  26.0   7.9250\n",
       "3         1  35.0  53.1000\n",
       "4         0  35.0   8.0500"
      ]
     },
     "execution_count": 18,
     "metadata": {},
     "output_type": "execute_result"
    }
   ],
   "source": [
    "df.head()"
   ]
  },
  {
   "cell_type": "code",
   "execution_count": 20,
   "id": "b8472894-f749-42e1-9ac2-fd942fb69810",
   "metadata": {},
   "outputs": [
    {
     "name": "stdout",
     "output_type": "stream",
     "text": [
      "Survived      0\n",
      "Age         177\n",
      "Fare          0\n",
      "dtype: int64\n",
      "Survived    0\n",
      "Age         0\n",
      "Fare        0\n",
      "dtype: int64\n"
     ]
    }
   ],
   "source": [
    "print(df.isnull().sum())\n",
    "df.dropna(inplace=True)\n",
    "print(df.isnull().sum())"
   ]
  },
  {
   "cell_type": "code",
   "execution_count": 22,
   "id": "be8664af-e759-4819-a18b-08a0bcbd9f5c",
   "metadata": {},
   "outputs": [
    {
     "data": {
      "text/plain": [
       "(714, 3)"
      ]
     },
     "execution_count": 22,
     "metadata": {},
     "output_type": "execute_result"
    }
   ],
   "source": [
    "df.shape"
   ]
  },
  {
   "cell_type": "code",
   "execution_count": 24,
   "id": "7a1b0895-d7e1-4ade-9bc5-919eaeeb0781",
   "metadata": {},
   "outputs": [],
   "source": [
    "X = df.iloc[:, 1:]\n",
    "y = df.iloc[:,0]"
   ]
  },
  {
   "cell_type": "code",
   "execution_count": 26,
   "id": "be64023f-2ce4-41e6-bb06-b6c9a3dcb773",
   "metadata": {},
   "outputs": [
    {
     "data": {
      "text/plain": [
       "(      Age     Fare\n",
       " 0    22.0   7.2500\n",
       " 1    38.0  71.2833\n",
       " 2    26.0   7.9250\n",
       " 3    35.0  53.1000\n",
       " 4    35.0   8.0500\n",
       " ..    ...      ...\n",
       " 885  39.0  29.1250\n",
       " 886  27.0  13.0000\n",
       " 887  19.0  30.0000\n",
       " 889  26.0  30.0000\n",
       " 890  32.0   7.7500\n",
       " \n",
       " [714 rows x 2 columns],\n",
       " 0      0\n",
       " 1      1\n",
       " 2      1\n",
       " 3      1\n",
       " 4      0\n",
       "       ..\n",
       " 885    0\n",
       " 886    0\n",
       " 887    1\n",
       " 889    1\n",
       " 890    0\n",
       " Name: Survived, Length: 714, dtype: int64)"
      ]
     },
     "execution_count": 26,
     "metadata": {},
     "output_type": "execute_result"
    }
   ],
   "source": [
    "X, y"
   ]
  },
  {
   "cell_type": "code",
   "execution_count": 28,
   "id": "090437fe-5ec5-4d32-903b-26f08705421c",
   "metadata": {},
   "outputs": [],
   "source": [
    "X_train,X_test,y_train,y_test = train_test_split(X,y,test_size=0.2,random_state=42)"
   ]
  },
  {
   "cell_type": "code",
   "execution_count": 32,
   "id": "14360b9a-cea2-48c8-adfe-ff4e24602d9a",
   "metadata": {},
   "outputs": [
    {
     "data": {
      "text/plain": [
       "((571, 2), (143, 2), (571,), (143,))"
      ]
     },
     "execution_count": 32,
     "metadata": {},
     "output_type": "execute_result"
    }
   ],
   "source": [
    "X_train.shape, X_test.shape, y_train.shape, y_test.shape"
   ]
  },
  {
   "cell_type": "markdown",
   "id": "e3411a41-9205-4767-9268-f2597c131c98",
   "metadata": {},
   "source": [
    "## Without Binning"
   ]
  },
  {
   "cell_type": "code",
   "execution_count": 39,
   "id": "a4b0be1a-a3c1-4958-9ec8-844a8cf353a1",
   "metadata": {},
   "outputs": [
    {
     "data": {
      "text/plain": [
       "0.6153846153846154"
      ]
     },
     "execution_count": 39,
     "metadata": {},
     "output_type": "execute_result"
    }
   ],
   "source": [
    "clf = DecisionTreeClassifier()\n",
    "\n",
    "clf.fit(X_train, y_train)\n",
    "\n",
    "y_pred = clf.predict(X_test)\n",
    "accuracy_score(y_test, y_pred)"
   ]
  },
  {
   "cell_type": "code",
   "execution_count": 43,
   "id": "2fd17530-467a-42e1-bac6-4ccb9efb4606",
   "metadata": {},
   "outputs": [
    {
     "data": {
      "text/plain": [
       "np.float64(0.6261150234741784)"
      ]
     },
     "execution_count": 43,
     "metadata": {},
     "output_type": "execute_result"
    }
   ],
   "source": [
    "np.mean(cross_val_score(DecisionTreeClassifier(), X, y, cv=10, scoring='accuracy'))"
   ]
  },
  {
   "cell_type": "markdown",
   "id": "fd49e6de-2e6f-4c79-bd72-5e4d92c13ce8",
   "metadata": {},
   "source": [
    "## With Binning"
   ]
  },
  {
   "cell_type": "code",
   "execution_count": 104,
   "id": "d4d0380b-3cf3-40fe-8a0b-d54d7952deec",
   "metadata": {},
   "outputs": [],
   "source": [
    "def discretize(bins, strategy):\n",
    "    ct = ColumnTransformer(transformers=[\n",
    "        ('Kbins', KBinsDiscretizer(n_bins=bins, strategy=strategy, encode='ordinal'), [0,1])\n",
    "    ])\n",
    "    X_trf = ct.fit_transform(X)\n",
    "\n",
    "    accuracy = np.mean(cross_val_score(DecisionTreeClassifier(), X_trf, y, cv=10, scoring='accuracy'))\n",
    "    print(accuracy)\n",
    "\n",
    "    fig, axs = plt.subplots(1, 2, figsize=(14,4))\n",
    "    sns.histplot(X['Age'], ax=axs[0])\n",
    "    axs[0].set_title('Age Before Binning')\n",
    "    \n",
    "    sns.histplot(X_trf[:, 0], ax=axs[1], color='red')\n",
    "    axs[1].set_title('Age After Binning')\n",
    "    plt.tight_layout()\n",
    "    plt.show()\n",
    "\n",
    "    fig, axs = plt.subplots(1, 2, figsize=(14,4))\n",
    "    sns.histplot(X['Fare'], ax=axs[0])\n",
    "    axs[0].set_title('Fare Before Binning')\n",
    "    \n",
    "    sns.histplot(X_trf[:, 1], ax=axs[1], color='red')\n",
    "    axs[1].set_title('Fare After Binning')\n",
    "    plt.tight_layout()\n",
    "    plt.show()    "
   ]
  },
  {
   "cell_type": "code",
   "execution_count": 128,
   "id": "8138ce8b-46ba-4685-85d7-d820870d510c",
   "metadata": {},
   "outputs": [
    {
     "name": "stdout",
     "output_type": "stream",
     "text": [
      "0.682140062597809\n"
     ]
    },
    {
     "data": {
      "image/png": "[encoded data removed]",
      "text/plain": [
       "<Figure size 1400x400 with 2 Axes>"
      ]
     },
     "metadata": {},
     "output_type": "display_data"
    },
    {
     "data": {
      "image/png": "[encoded data removed]",
      "text/plain": [
       "<Figure size 1400x400 with 2 Axes>"
      ]
     },
     "metadata": {},
     "output_type": "display_data"
    }
   ],
   "source": [
    "discretize(10, 'quantile')"
   ]
  },
  {
   "cell_type": "code",
   "execution_count": null,
   "id": "a9d44202-e79d-4c53-8a7d-05b2c35f06e9",
   "metadata": {},
   "outputs": [],
   "source": []
  }
 ],
 "metadata": {
  "kernelspec": {
   "display_name": "Python [conda env:base]",
   "language": "python",
   "name": "conda-base-py"
  },
  "language_info": {
   "codemirror_mode": {
    "name": "ipython",
    "version": 3
   },
   "file_extension": ".py",
   "mimetype": "text/x-python",
   "name": "python",
   "nbconvert_exporter": "python",
   "pygments_lexer": "ipython3",
   "version": "3.12.8"
  }
 },
 "nbformat": 4,
 "nbformat_minor": 5
}
